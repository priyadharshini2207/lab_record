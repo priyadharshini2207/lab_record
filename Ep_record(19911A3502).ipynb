{
  "nbformat": 4,
  "nbformat_minor": 0,
  "metadata": {
    "colab": {
      "name": "Ep_record(19911A3502)",
      "provenance": [],
      "collapsed_sections": [
        "ratUqM_-fwPt",
        "tRtXadcHyGqV",
        "PdWKwpBOA3WU",
        "zzJbp00FOB4R",
        "d5MAx0ePRxZu",
        "8hjz9tD24fEs",
        "cg34jcdA4v_a",
        "JpT_qlncLyVT",
        "iFfflL9DO42B"
      ]
    },
    "kernelspec": {
      "name": "python3",
      "display_name": "Python 3"
    },
    "language_info": {
      "name": "python"
    }
  },
  "cells": [
    {
      "cell_type": "markdown",
      "metadata": {
        "id": "TwFxKjFC--Y7"
      },
      "source": [
        "  <h1><b><center>EP LAB RECORD</b></h1>"
      ]
    },
    {
      "cell_type": "markdown",
      "metadata": {
        "id": "ratUqM_-fwPt"
      },
      "source": [
        "# **Exercise:1**"
      ]
    },
    {
      "cell_type": "markdown",
      "metadata": {
        "id": "4xrvMZWJf_8H"
      },
      "source": [
        "**b)** ***Write a program to demonstrate the use of basic data types***"
      ]
    },
    {
      "cell_type": "code",
      "metadata": {
        "colab": {
          "base_uri": "https://localhost:8080/"
        },
        "id": "HXsC2O-Ac9cF",
        "outputId": "437d2130-dd6b-45c3-8433-010eea24603e"
      },
      "source": [
        "#1.NUMERIC\n",
        "#1.a)int\n",
        "a=int(input(\"enter num\"))\n",
        "b=int(input(\"enter num\"))\n",
        "c=a+b\n",
        "print(\"sum is\",c)\n",
        "print(type(c))\n",
        "print(\".......\")\n",
        "#1.b)float\n",
        "a=float(input(\"enter num\"))\n",
        "b=float(input(\"enter num\"))\n",
        "c=a+b\n",
        "print(\"sum is\",c)\n",
        "print(type(c))\n",
        "print(\".......\")\n",
        "#1.c)complex\n",
        "a=complex(input(\"enter num\"))\n",
        "b=complex(input(\"enter num\"))\n",
        "c=a+b\n",
        "print(\"sum is\",c)\n",
        "print(type(c))\n",
        "print(\"_____________\")\n",
        "#2.BOOLEAN\n",
        "print(10 > 9)\n",
        "print(10 == 9)\n",
        "print(10 < 9)\n",
        "print(\"_____________\")\n",
        "#3.SET\n",
        "Set = {1, 2, 3}# set of integers\n",
        "print(Set)\n",
        "Set = {1.0, \"Hello\", (1, 2, 3)}# set of mixed datatypes\n",
        "print(Set)\n",
        "print(type(Set))\n",
        "print(\"_____________\")\n",
        "#4.SEQUENCE TYPE\n",
        "#4.a)Strings\n",
        "my_string = \"Hello\"\n",
        "print(my_string)\n",
        "my_string = \"\"\"Hello, I'm priyadharshini     \n",
        "           from Artificial intelligence\"\"\"\n",
        "print(my_string)# triple quotes string can extend multiple lines\n",
        "print(my_string[0:16])\n",
        "print(my_string[:-10])\n",
        "print(type(my_string))\n",
        "print(\".......\")\n",
        "#4.b)list\n",
        "my_list = ['a','b','c','d','e']\n",
        "print(my_list)\n",
        "print(my_list[2])\n",
        "print(my_list[-1])\n",
        "print(type(my_list))\n",
        "print(\".......\")\n",
        "#4.c)Tuple\n",
        "tup=('priya','surya','shiva','sony','ravz','spoorthy')\n",
        "print(tup)\n",
        "print(tup[0])\n",
        "print(tup[1:4])\n",
        "print(type(tup))\n",
        "print(\"_____________\")\n",
        "#5.DICTIONARY\n",
        "my_dict = {'name': 'priya', 'age': 18}\n",
        "print(my_dict)\n",
        "print(my_dict['name'])\n",
        "print(my_dict.get('age'))\n",
        "print(type(my_dict))"
      ],
      "execution_count": null,
      "outputs": [
        {
          "output_type": "stream",
          "text": [
            "enter num353\n",
            "enter num235\n",
            "sum is 588\n",
            "<class 'int'>\n",
            ".......\n",
            "enter num456.2\n",
            "enter num356.7\n",
            "sum is 812.9\n",
            "<class 'float'>\n",
            ".......\n",
            "enter num45+35j\n",
            "enter num56+34j\n",
            "sum is (101+69j)\n",
            "<class 'complex'>\n",
            "_____________\n",
            "True\n",
            "False\n",
            "False\n",
            "_____________\n",
            "{1, 2, 3}\n",
            "{1.0, (1, 2, 3), 'Hello'}\n",
            "<class 'set'>\n",
            "_____________\n",
            "Hello\n",
            "Hello, I'm priyadharshini     \n",
            "           from Artificial intelligence\n",
            "Hello, I'm priya\n",
            "Hello, I'm priyadharshini     \n",
            "           from Artificial in\n",
            "<class 'str'>\n",
            ".......\n",
            "['a', 'b', 'c', 'd', 'e']\n",
            "c\n",
            "e\n",
            "<class 'list'>\n",
            ".......\n",
            "('priya', 'surya', 'shiva', 'sony', 'ravz', 'spoorthy')\n",
            "priya\n",
            "('surya', 'shiva', 'sony')\n",
            "<class 'tuple'>\n",
            "_____________\n",
            "{'name': 'priya', 'age': 18}\n",
            "priya\n",
            "18\n",
            "<class 'dict'>\n"
          ],
          "name": "stdout"
        }
      ]
    },
    {
      "cell_type": "markdown",
      "metadata": {
        "id": "upsnj0L9cboY"
      },
      "source": [
        "**c)** ***Write a program to demonstrate the operators and expressions***"
      ]
    },
    {
      "cell_type": "code",
      "metadata": {
        "colab": {
          "base_uri": "https://localhost:8080/"
        },
        "id": "vqVB1D6hcUHX",
        "outputId": "352c6087-c397-4bdd-b53e-368ebfbb0b5c"
      },
      "source": [
        "#1.OPERATORS\n",
        "#1.a)Arithmetic operators\n",
        "a = int(input(\"Enter a number\"))\n",
        "b = int(input(\"Enter a number\"))\n",
        "add = a + b # Addition of numbers \n",
        "sub = a - b # Subtraction of numbers \n",
        "mul = a * b # Multiplication of number \n",
        "div1 = a / b # Division(float) of number \n",
        "div2 = a // b # Division(floor) of number \n",
        "mod = a % b # Modulo of both number \n",
        "p = a ** b# Power\n",
        "print(add) \n",
        "print(sub) \n",
        "print(mul) \n",
        "print(div1) \n",
        "print(div2) \n",
        "print(mod)\n",
        "print(p)\n",
        "print(\"..................\")\n",
        "#1.b)Relatinal operators\n",
        "print(a > b)\n",
        "print(a < b)\n",
        "print(a == b)\n",
        "print(a != b)\n",
        "print(a >= b)\n",
        "print(a <= b)\n",
        "print(\"..................\")\n",
        "#1.c)Bitwise operators\n",
        "print(a & b)#bitwise AND operation  \n",
        "print(a | b)#bitwise OR operation\n",
        "print(~a)#bitwise NOT operation \n",
        "print(a ^ b)#bitwise XOR operation \n",
        "print(a >> 2)#bitwise right shift operation \n",
        "print(a << 2)#bitwise left shift operation\n",
        "print(\"..................\")\n",
        "#1.d)Identity operators\n",
        "print(a is not b) \n",
        "print(a is b)\n",
        "print(\"..................\")\n",
        "#1.e)Logical operators\n",
        "S=True\n",
        "T=False\n",
        "print(S and T)\n",
        "print(S or T)\n",
        "print(not S)\n",
        "print(not T)\n",
        "print(\"..................\")\n",
        "#1.f)Assignment operators\n",
        "a+=b\n",
        "print(a)\n",
        "a-=b\n",
        "print(a)\n",
        "a*=b\n",
        "print(a)\n",
        "a/=b\n",
        "print(a)\n",
        "a%=b\n",
        "print(a)\n",
        "a//=b\n",
        "print(a)\n",
        "a**=b\n",
        "print(a)\n",
        "print(\"..................\")\n",
        "#1.g)Membership operators\n",
        "x = 'Dept of Artificial intelligence'\n",
        "y = {1:'a',2:'b'}\n",
        "print('D' in x)\n",
        "print('of' not in x)\n",
        "print('Of' not in x)\n",
        "print(1 in y)\n",
        "print('e' in y)"
      ],
      "execution_count": null,
      "outputs": [
        {
          "output_type": "stream",
          "text": [
            "Enter a number8\n",
            "Enter a number2\n",
            "10\n",
            "6\n",
            "16\n",
            "4.0\n",
            "4\n",
            "0\n",
            "64\n",
            "..................\n",
            "True\n",
            "False\n",
            "False\n",
            "True\n",
            "True\n",
            "False\n",
            "..................\n",
            "0\n",
            "10\n",
            "-9\n",
            "10\n",
            "2\n",
            "32\n",
            "..................\n",
            "True\n",
            "False\n",
            "..................\n",
            "False\n",
            "True\n",
            "False\n",
            "True\n",
            "..................\n",
            "10\n",
            "8\n",
            "16\n",
            "8.0\n",
            "0.0\n",
            "0.0\n",
            "0.0\n",
            "..................\n",
            "True\n",
            "False\n",
            "True\n",
            "True\n",
            "False\n"
          ],
          "name": "stdout"
        }
      ]
    },
    {
      "cell_type": "markdown",
      "metadata": {
        "id": "WmD-WLv1m0_l"
      },
      "source": [
        "**d)** ***python program to demonstrate functions and parameter passing techniques***"
      ]
    },
    {
      "cell_type": "code",
      "metadata": {
        "colab": {
          "base_uri": "https://localhost:8080/"
        },
        "id": "1rXLne1nm-5g",
        "outputId": "57df4cb3-14e5-4ad6-b655-d0afef782c3c"
      },
      "source": [
        "#function without any parameters\n",
        "def my_function():#creating a function\n",
        "  print(\"Hi!I'm from Artificial intelligence\")\n",
        "my_function()#calling a function\n",
        "print(\"..................\")\n",
        "#function with parameters\n",
        "def my_dept(dept):\n",
        "  print(\"Hi!I'm from \"+dept)\n",
        "my_dept(\"Artificial intelligence\")\n",
        "my_dept(\"Computer science\")\n",
        "my_dept(\"Machine learning\")\n",
        "print(\"__________________\")\n",
        "#keyword arguments\n",
        "print(\"KEYWORD ARGUMENTS\")\n",
        "def keyarg(name, age):\n",
        "    print(\"name = \" , name)\n",
        "    print(\"age = \", age )\n",
        "keyarg(age=18, name=\"Priya\")\n",
        "print(\"..................\")\n",
        "#Default arguments\n",
        "print(\"DEFAULT ARGUMENTS\")\n",
        "def defaultarg(name, age=18):\n",
        "    print(\"name = \" , name)\n",
        "    print(\"age = \", age )\n",
        "defaultarg (name= \"Sony\", age=20)\n",
        "defaultarg (name=\"Priya\")\n",
        "print(\"..................\")\n",
        "#Variable-length arguments\n",
        "print(\"VARIABLE-LENGTH ARGUMENTS\")\n",
        "def vararg(name, *course):\n",
        "    print(\"name = \", name)\n",
        "    print(\"course = \", course)\n",
        "vararg('Priya', 'Mathematics')\n",
        "vararg('Akshi', 'Python', 'Data Structures','Mathematics')\n",
        "\n"
      ],
      "execution_count": null,
      "outputs": [
        {
          "output_type": "stream",
          "text": [
            "Hi!I'm from Artificial intelligence\n",
            "..................\n",
            "Hi!I'm from Artificial intelligence\n",
            "Hi!I'm from Computer science\n",
            "Hi!I'm from Machine learning\n",
            "__________________\n",
            "KEYWORD ARGUMENTS\n",
            "name =  Priya\n",
            "age =  18\n",
            "..................\n",
            "DEFAULT ARGUMENTS\n",
            "name =  Sony\n",
            "age =  20\n",
            "name =  Priya\n",
            "age =  18\n",
            "..................\n",
            "VARIABLE-LENGTH ARGUMENTS\n",
            "name =  Priya\n",
            "course =  ('Mathematics',)\n",
            "name =  Akshi\n",
            "course =  ('Python', 'Data Structures', 'Mathematics')\n"
          ],
          "name": "stdout"
        }
      ]
    },
    {
      "cell_type": "markdown",
      "metadata": {
        "id": "tRtXadcHyGqV"
      },
      "source": [
        "# **Exercise:2**"
      ]
    },
    {
      "cell_type": "markdown",
      "metadata": {
        "id": "QubJ15p4yNSD"
      },
      "source": [
        "**a)** **Write a program to implement**\n",
        "\n",
        "1.   **packages**\n",
        "2.   **modules**\n",
        "\n",
        "1.   **built-in**\n",
        "\n",
        "\n",
        "\n",
        "\n",
        "\n",
        "\n",
        "\n",
        "\n",
        "\n",
        "\n"
      ]
    },
    {
      "cell_type": "markdown",
      "metadata": {
        "id": "nkvzWQ0JwBwC"
      },
      "source": [
        "1.MODULES"
      ]
    },
    {
      "cell_type": "code",
      "metadata": {
        "id": "VmBNc4taxgPB",
        "colab": {
          "resources": {
            "http://localhost:8080/nbextensions/google.colab/files.js": {
              "data": "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",
              "ok": true,
              "headers": [
                [
                  "content-type",
                  "application/javascript"
                ]
              ],
              "status": 200,
              "status_text": ""
            }
          },
          "base_uri": "https://localhost:8080/",
          "height": 109
        },
        "outputId": "5096f7f3-65a9-43dc-8ced-efdf10cdd1c8"
      },
      "source": [
        "from google.colab import files\n",
        "files.upload()"
      ],
      "execution_count": null,
      "outputs": [
        {
          "output_type": "display_data",
          "data": {
            "text/html": [
              "\n",
              "     <input type=\"file\" id=\"files-5f15bbd5-03d3-4257-83d7-2b027ce4d3ad\" name=\"files[]\" multiple disabled\n",
              "        style=\"border:none\" />\n",
              "     <output id=\"result-5f15bbd5-03d3-4257-83d7-2b027ce4d3ad\">\n",
              "      Upload widget is only available when the cell has been executed in the\n",
              "      current browser session. Please rerun this cell to enable.\n",
              "      </output>\n",
              "      <script src=\"/nbextensions/google.colab/files.js\"></script> "
            ],
            "text/plain": [
              "<IPython.core.display.HTML object>"
            ]
          },
          "metadata": {
            "tags": []
          }
        },
        {
          "output_type": "stream",
          "text": [
            "Saving python.py to python.py\n"
          ],
          "name": "stdout"
        },
        {
          "output_type": "execute_result",
          "data": {
            "text/plain": [
              "{'python.py': b'# -*- coding: utf-8 -*-\\n\"\"\"python\\n\\nAutomatically generated by Colaboratory.\\n\\nOriginal file is located at\\n    https://colab.research.google.com/drive/1MhhW60JL1dXzxDZwShAB8YHRS_Pf0mT_\\n\"\"\"\\n\\na=int(input(\"enter num\"))\\nb=int(input(\"enter num\"))\\nc=a+b\\nc'}"
            ]
          },
          "metadata": {
            "tags": []
          },
          "execution_count": 28
        }
      ]
    },
    {
      "cell_type": "code",
      "metadata": {
        "colab": {
          "base_uri": "https://localhost:8080/"
        },
        "id": "xtuQ-ExOK3yL",
        "outputId": "d35f7af7-9db2-409d-a68b-4ff068e79489"
      },
      "source": [
        "import python\n",
        "print(python.a)\n",
        "print(python.b)\n",
        "print(python.c)"
      ],
      "execution_count": null,
      "outputs": [
        {
          "output_type": "stream",
          "text": [
            "456\n",
            "335\n",
            "791\n"
          ],
          "name": "stdout"
        }
      ]
    },
    {
      "cell_type": "markdown",
      "metadata": {
        "id": "S5Jp5Sq1MN_D"
      },
      "source": [
        "2.PACKAGES"
      ]
    },
    {
      "cell_type": "code",
      "metadata": {
        "colab": {
          "base_uri": "https://localhost:8080/"
        },
        "id": "g5pcoF8aMQxY",
        "outputId": "582beaa0-5a92-4132-d1f1-872862c81958"
      },
      "source": [
        "import numpy as np\n",
        "a=np.array([1,2,3,4,5,6,3,7,8,])\n",
        "x=np.where(a==7)\n",
        "print(x)"
      ],
      "execution_count": null,
      "outputs": [
        {
          "output_type": "stream",
          "text": [
            "(array([7]),)\n"
          ],
          "name": "stdout"
        }
      ]
    },
    {
      "cell_type": "code",
      "metadata": {
        "colab": {
          "base_uri": "https://localhost:8080/",
          "height": 55
        },
        "id": "-qOy8v6gqNFj",
        "outputId": "c3be0b67-4ed0-4608-8f34-b4859ca9879b"
      },
      "source": [
        "from sympy import * \n",
        "x=Symbol ('x') \n",
        "expr = integrate(x**x, x) \n",
        "expr"
      ],
      "execution_count": null,
      "outputs": [
        {
          "output_type": "execute_result",
          "data": {
            "text/latex": "$\\displaystyle \\int x^{x}\\, dx$",
            "text/plain": [
              "Integral(x**x, x)"
            ]
          },
          "metadata": {
            "tags": []
          },
          "execution_count": 18
        }
      ]
    },
    {
      "cell_type": "markdown",
      "metadata": {
        "id": "kKxnmQxYLhZD"
      },
      "source": [
        "3.BUILT-IN FUNCTIONS"
      ]
    },
    {
      "cell_type": "code",
      "metadata": {
        "colab": {
          "base_uri": "https://localhost:8080/"
        },
        "id": "2yj72MT1Ll76",
        "outputId": "af330436-36b4-4938-e281-3a4ee7a39c9f"
      },
      "source": [
        "#1.Absolute\n",
        "print(\"ABSOLUTE\")\n",
        "print('Absolute of -10.589 = ', abs(-10.589))\n",
        "#2.Binary\n",
        "print(\"BINARY\")\n",
        "print(\"Binary Equalent of 16\", bin(16))\n",
        "#3.Quotient and remainder\n",
        "print(\"QUOTIENT AND REMAINDER\")\n",
        "print(\"Quotient and remainder of 10/5 = \" , divmod(10,5))\n",
        "#4.Float\n",
        "print(\"FLOAT\")\n",
        "print(\"float value of 10 = \", float(10))\n",
        "#5.Int\n",
        "print(\"INT\")\n",
        "print(\"int value of 10.2 =\", int(10.2))\n",
        "#6.Max\n",
        "print(\"MAX\")\n",
        "print(\"Maximum of 10,20,30 = \", max(10,20,30))\n",
        "#7.Min\n",
        "print(\"MIN\")\n",
        "print(\"Minimum of 10,20,30 = \", min(10,20,30))\n",
        "#8.Power\n",
        "print(\"POWER\")\n",
        "print(\"2 power 4 = \", pow(2,4))\n",
        "#9.Evaluate\n",
        "print(\"EVALUATE\")\n",
        "x=2\n",
        "print(\"Evaluate value of x**2 = \",eval('x**2'))\n",
        "import math\n",
        "#9.Square root\n",
        "print(\"SQUARE ROOT\")\n",
        "print(\"Square root of 25 = \" ,math.sqrt(25))\n"
      ],
      "execution_count": null,
      "outputs": [
        {
          "output_type": "stream",
          "text": [
            "ABSOLUTE\n",
            "Absolute of -10.589 =  10.589\n",
            "BINARY\n",
            "Binary Equalent of 16 0b10000\n",
            "QUOTIENT AND REMAINDER\n",
            "Quotient and remainder of 10/5 =  (2, 0)\n",
            "FLOAT\n",
            "float value of 10 =  10.0\n",
            "INT\n",
            "int value of 10.2 = 10\n",
            "MAX\n",
            "Maximum of 10,20,30 =  30\n",
            "MIN\n",
            "Minimum of 10,20,30 =  10\n",
            "POWER\n",
            "2 power 4 =  16\n",
            "EVALUATE\n",
            "Evaluate value of x**2 =  4\n",
            "SQUARE ROOT\n",
            "Square root of 25 =  5.0\n"
          ],
          "name": "stdout"
        }
      ]
    },
    {
      "cell_type": "markdown",
      "metadata": {
        "id": "CUPbz3gxzn9J"
      },
      "source": [
        "**b)** **Write a program to implement**\n",
        "\n",
        "1.   **list**\n",
        "2.   **tuple**\n",
        "\n",
        "1.   **dictionaries**\n",
        "\n",
        "\n",
        "\n",
        "\n",
        "\n"
      ]
    },
    {
      "cell_type": "code",
      "metadata": {
        "colab": {
          "base_uri": "https://localhost:8080/"
        },
        "id": "22djHz_xz9W7",
        "outputId": "fee07d45-1191-4bce-b3c0-130d468608b3"
      },
      "source": [
        "#1)list\n",
        "my_list = ['a','b','c','d','e']\n",
        "print(my_list)\n",
        "print(my_list[2])\n",
        "print(my_list[-1])\n",
        "print(my_list[1:3])\n",
        "print(my_list[ :3])\n",
        "print(my_list[1:])\n",
        "print(my_list[:-3])\n",
        "print(my_list[-1:])\n",
        "print(type(my_list))\n",
        "print(\"_____________\")\n",
        "#2)Tuple\n",
        "tup=('priya','surya','shiva','sony','ravz','spoorthy')\n",
        "tup1=(5,6)\n",
        "tup2=(1,8)\n",
        "print(tup)\n",
        "print(tup[0])\n",
        "print(tup[1:4])\n",
        "print(tup[:3])\n",
        "print(tup[2:])\n",
        "print(tup[:-2])\n",
        "print(tup[-1:])\n",
        "if (tup1>tup2):print( \"tup1 is bigger\")\n",
        "else: print(\"tup2 is bigger\")\n",
        "print(type(tup))\n",
        "print(\"_____________\")\n",
        "#3)DICTIONARY\n",
        "my_dict = {'name': 'priya', 'age': 18}\n",
        "print(my_dict)\n",
        "print(my_dict['name'])\n",
        "print(my_dict.get('age'))\n",
        "my_dict.update({'Branch':'Aie','marks':20})\n",
        "print(my_dict)\n",
        "del my_dict['marks']\n",
        "print(my_dict)\n",
        "my_dict['marks']='20'\n",
        "print(my_dict)\n",
        "my_dict.pop(\"marks\")\n",
        "print(my_dict)\n",
        "print(type(my_dict))"
      ],
      "execution_count": null,
      "outputs": [
        {
          "output_type": "stream",
          "text": [
            "['a', 'b', 'c', 'd', 'e']\n",
            "c\n",
            "e\n",
            "['b', 'c']\n",
            "['a', 'b', 'c']\n",
            "['b', 'c', 'd', 'e']\n",
            "['a', 'b']\n",
            "['e']\n",
            "<class 'list'>\n",
            "_____________\n",
            "('priya', 'surya', 'shiva', 'sony', 'ravz', 'spoorthy')\n",
            "priya\n",
            "('surya', 'shiva', 'sony')\n",
            "('priya', 'surya', 'shiva')\n",
            "('shiva', 'sony', 'ravz', 'spoorthy')\n",
            "('priya', 'surya', 'shiva', 'sony')\n",
            "('spoorthy',)\n",
            "tup1 is bigger\n",
            "<class 'tuple'>\n",
            "_____________\n",
            "{'name': 'priya', 'age': 18}\n",
            "priya\n",
            "18\n",
            "{'name': 'priya', 'age': 18, 'Branch': 'Aie', 'marks': 20}\n",
            "{'name': 'priya', 'age': 18, 'Branch': 'Aie'}\n",
            "{'name': 'priya', 'age': 18, 'Branch': 'Aie', 'marks': '20'}\n",
            "{'name': 'priya', 'age': 18, 'Branch': 'Aie'}\n",
            "<class 'dict'>\n"
          ],
          "name": "stdout"
        }
      ]
    },
    {
      "cell_type": "markdown",
      "metadata": {
        "id": "dH5phxmK4MY4"
      },
      "source": [
        "**c)** ***Program on Strings,string operations and regular expression***"
      ]
    },
    {
      "cell_type": "code",
      "metadata": {
        "colab": {
          "base_uri": "https://localhost:8080/"
        },
        "id": "yY4_6NR44eZg",
        "outputId": "3eb8ca4c-23b0-4637-fce9-ec07b1902cb7"
      },
      "source": [
        "#1)Strings\n",
        "my_string = \"Hello\"\n",
        "print(my_string)\n",
        "my_string = \"\"\"Hello, I'm priyadharshini     \n",
        "           from Artificial intelligence\"\"\"\n",
        "print(my_string)# triple quotes string can extend multiple lines\n",
        "print(\"STRING SLICING\")\n",
        "print(my_string[12])\n",
        "print(my_string[-5])\n",
        "print(my_string[0:16])\n",
        "print(my_string[ :16])\n",
        "print(my_string[12:])\n",
        "print(my_string[:-10])\n",
        "print(my_string[-4:])\n",
        "print(type(my_string))\n",
        "print(\"................\")\n",
        "print(\"STRING OPERATIONS\")\n",
        "s=\"Hi I'm priyadharshini from artificial intelligence\"\n",
        "t=\"Hi\"\n",
        "print(len(str(s)))#finding length of the string\n",
        "print(s.capitalize())#capitalizing first letter of sting\n",
        "print(s.count('i',0,28))#repetation\n",
        "print(s.index(\"f\",12,28))#index finding\n",
        "print(s.isalnum())#checks if there are only alpabets and nums\n",
        "print(s.endswith(\"o\",0,5))#checks if it ends with give alphabet\n",
        "print(s.find(\"from arti\"))\n",
        "print(s.isupper())\n",
        "print(s.islower())\n",
        "print(s.isspace())\n",
        "print(s.istitle())\n",
        "print(t.join(t))\n",
        "print(s.partition(\"from\"))\n",
        "print(s.replace(\"intelligence\",\"engineering\"))\n",
        "print(\"_____________________\")\n",
        "#2)Regular expressions\n",
        "#match\n",
        "import re\n",
        "Name = r\"Priya\"\n",
        "last_name = \"Priya\"\n",
        "if re.match(Name,last_name):\n",
        "  print(\"Match!\")\n",
        "else: \n",
        "  print(\"Not a match!\")\n",
        "#findall\n",
        "S =\"Hi I'm priyadharshini from artificial intelligence\"\n",
        "# findall('Pattern', \"string\")\n",
        "x = re.findall('[abc]' , S )\n",
        "y=re.findall('[a-c]', S)\n",
        "z=re.findall('^[a-c]', S)\n",
        "t= re.findall('a*', S)\n",
        "v= re.findall('[a-e]*', S)\n",
        "n= re.findall('[A-Z][a-z]*', s)\n",
        "print(x)\n",
        "print(y)\n",
        "print(z)\n",
        "print(t)\n",
        "print(v)\n",
        "print(n)\n",
        "#search(\"Pattern\", string)\n",
        "if re.search('a*', S):\n",
        "  print(\"Found\")\n",
        "else:\n",
        "  print(\"Not found\")\n",
        "#split\n",
        "text=\"Hi I'm priyadharshini from artificial intelligence\"\n",
        "result = re.split('[a-e]',text)\n",
        "print(result)"
      ],
      "execution_count": null,
      "outputs": [
        {
          "output_type": "stream",
          "text": [
            "Hello\n",
            "Hello, I'm priyadharshini     \n",
            "           from Artificial intelligence\n",
            "STRING SLICING\n",
            "r\n",
            "g\n",
            "Hello, I'm priya\n",
            "Hello, I'm priya\n",
            "riyadharshini     \n",
            "           from Artificial intelligence\n",
            "Hello, I'm priyadharshini     \n",
            "           from Artificial in\n",
            "ence\n",
            "<class 'str'>\n",
            "................\n",
            "STRING OPERATIONS\n",
            "50\n",
            "Hi i'm priyadharshini from artificial intelligence\n",
            "4\n",
            "22\n",
            "False\n",
            "False\n",
            "22\n",
            "False\n",
            "False\n",
            "False\n",
            "False\n",
            "HHii\n",
            "(\"Hi I'm priyadharshini \", 'from', ' artificial intelligence')\n",
            "Hi I'm priyadharshini from artificial engineering\n",
            "_____________________\n",
            "Match!\n",
            "['a', 'a', 'a', 'c', 'a', 'c']\n",
            "['a', 'a', 'a', 'c', 'a', 'c']\n",
            "[]\n",
            "['', '', '', '', '', '', '', '', '', '', '', 'a', '', '', 'a', '', '', '', '', '', '', '', '', '', '', '', '', 'a', '', '', '', '', '', '', '', 'a', '', '', '', '', '', '', '', '', '', '', '', '', '', '', '']\n",
            "['', '', '', '', '', '', '', '', '', '', '', 'ad', '', 'a', '', '', '', '', '', '', '', '', '', '', '', '', 'a', '', '', '', '', '', 'c', '', 'a', '', '', '', '', '', 'e', '', '', '', '', 'e', '', 'ce', '']\n",
            "['Hi', 'I']\n",
            "Found\n",
            "[\"Hi I'm priy\", '', 'h', 'rshini from ', 'rtifi', 'i', 'l int', 'llig', 'n', '', '']\n"
          ],
          "name": "stdout"
        }
      ]
    },
    {
      "cell_type": "markdown",
      "metadata": {
        "id": "PdWKwpBOA3WU"
      },
      "source": [
        "# **Exercise:3**"
      ]
    },
    {
      "cell_type": "markdown",
      "metadata": {
        "id": "NTP28_wAA7S2"
      },
      "source": [
        "**a)** ***Write a program to implement Class and Object***"
      ]
    },
    {
      "cell_type": "code",
      "metadata": {
        "colab": {
          "base_uri": "https://localhost:8080/"
        },
        "id": "l1h0Nfq6BGQW",
        "outputId": "b7fe1c29-7cb0-431d-a115-8466e025e5ae"
      },
      "source": [
        "#classes and objects without constructor\n",
        "print(\"WITHOUT CONSTRUCTOR\")\n",
        "class person:\n",
        "    pass\n",
        "male=person()#object1\n",
        "female=person()#object2\n",
        "male.name='shiva'\n",
        "male.age=24\n",
        "female.name='priya'\n",
        "female.age=18\n",
        "print(male.__dict__)\n",
        "print(female.age)\n",
        "print(female.__dict__)\n",
        "#classes and objects with constructor\n",
        "print(\"WITH CONSTRUCTOR\")\n",
        "class person:\n",
        "    def __init__(self,name,age):\n",
        "        self.name=name\n",
        "        self.age=age\n",
        "male=person('shiva',24)\n",
        "female=person('priya',18)\n",
        "male.lastname='allapuram'\n",
        "print(male.__dict__)#dict keyword gives all d info about object\n",
        "print(female.age)\n",
        "print(female.__dict__)"
      ],
      "execution_count": 1,
      "outputs": [
        {
          "output_type": "stream",
          "name": "stdout",
          "text": [
            "WITHOUT CONSTRUCTOR\n",
            "{'name': 'shiva', 'age': 24}\n",
            "18\n",
            "{'name': 'priya', 'age': 18}\n",
            "WITH CONSTRUCTOR\n",
            "{'name': 'shiva', 'age': 24, 'lastname': 'allapuram'}\n",
            "18\n",
            "{'name': 'priya', 'age': 18}\n"
          ]
        }
      ]
    },
    {
      "cell_type": "markdown",
      "metadata": {
        "id": "gXnztwLWCufY"
      },
      "source": [
        "**b)** ***Write a program to implement static and instance methods,Abstract classes and interfaces***"
      ]
    },
    {
      "cell_type": "code",
      "metadata": {
        "id": "5-kr8kpnkTVW",
        "colab": {
          "base_uri": "https://localhost:8080/"
        },
        "outputId": "75a5caea-2c93-4bec-d23c-92d924217cd2"
      },
      "source": [
        "#Implement static and instance methods\n",
        "print(\"STATIC AND INSTANCE METHODS\")\n",
        "class Shape:\n",
        "    def rectArea(self,l,b):\n",
        "        return(l*b)\n",
        "    @classmethod\n",
        "    def sqArea(cls,s):\n",
        "        return(s*s)\n",
        "    @staticmethod\n",
        "    def CircleArea(r):\n",
        "        return(3.14*r*r)\n",
        "s=Shape()        \n",
        "print(\"Area of Rectangle = \",s.rectArea(2,4))\n",
        "#calling a class method\n",
        "print(\"Area of Square = \",Shape.sqArea(3))\n",
        "#calling a static method\n",
        "print(\"Area of Circle = \",Shape.CircleArea(2))\n",
        "print(\"___________________\")\n",
        "#Abstract class\n",
        "print(\"ABSTRACT CLASS\")\n",
        "from abc import ABC,abstractmethod\n",
        "class Animal(ABC):\n",
        "  @abstractmethod\n",
        "  def eat(self):\n",
        "    pass\n",
        "class Tiger(Animal):\n",
        "  def eat(self):\n",
        "    print(\"Eat non-veg\")\n",
        "class Cow(Animal):\n",
        "  def eat(self):\n",
        "    print(\"Eat veg\")\n",
        "t=Tiger()\n",
        "t.eat()\n",
        "c=Cow()\n",
        "c.eat()"
      ],
      "execution_count": 2,
      "outputs": [
        {
          "output_type": "stream",
          "name": "stdout",
          "text": [
            "STATIC AND INSTANCE METHODS\n",
            "Area of Rectangle =  8\n",
            "Area of Square =  9\n",
            "Area of Circle =  12.56\n",
            "___________________\n",
            "ABSTRACT CLASS\n",
            "Eat non-veg\n",
            "Eat veg\n"
          ]
        }
      ]
    },
    {
      "cell_type": "markdown",
      "metadata": {
        "id": "VE-e5fRYNBOB"
      },
      "source": [
        "**c)** **Write a program to compute distance between two points taking input from the user(pythagorean theorm)**"
      ]
    },
    {
      "cell_type": "code",
      "metadata": {
        "id": "UqTS26_yNrYZ"
      },
      "source": [
        "x1=int(input(\"enter x1 : \"))\n",
        "x2=int(input(\"enter x2 : \"))\n",
        "y1=int(input(\"enter y1 : \"))\n",
        "y2=int(input(\"enter y2 : \"))\n",
        "result= ((((x2 - x1 )**2) + ((y2-y1)**2) )**0.5)\n",
        "print(\"distance between\",(x1,x2),\"and\",(y1,y2),\"is : \",result)"
      ],
      "execution_count": null,
      "outputs": []
    },
    {
      "cell_type": "markdown",
      "metadata": {
        "id": "zzJbp00FOB4R"
      },
      "source": [
        "# **Exercise:4**"
      ]
    },
    {
      "cell_type": "markdown",
      "metadata": {
        "id": "ioqyxOEtOJYC"
      },
      "source": [
        "**a)** **Write a program to implement inheritence and polymorphism**"
      ]
    },
    {
      "cell_type": "code",
      "metadata": {
        "colab": {
          "base_uri": "https://localhost:8080/"
        },
        "id": "EjRLMxX0OWBU",
        "outputId": "ccd6b345-5cab-4235-c234-6ca846658b3c"
      },
      "source": [
        "#1.)INHERITENCE\n",
        "#1.a)Single inheritence\n",
        "print(\"SINGLE INHERITENCE\")\n",
        "class parent:\n",
        "    def fun1(self):\n",
        "        print(\"function 1\")\n",
        "class child(parent):\n",
        "    def fun2(self):\n",
        "        print(\"function 2\")\n",
        "ob=child()\n",
        "ob.fun1()\n",
        "#1.b)Multiple inheritence\n",
        "print(\"MULTIPLE INHERITENCE\")\n",
        "class parent1:\n",
        "    def fun1(self):\n",
        "        print(\"function 1\")\n",
        "class parent2:\n",
        "    def fun2(self):\n",
        "        print(\"function 2\")\n",
        "class child(parent1,parent2):\n",
        "    def fun3(self):\n",
        "        print(\"function 3\")\n",
        "ob=child()\n",
        "ob.fun1()\n",
        "ob.fun2()\n",
        "#1.c)Multilevel inheritence\n",
        "print(\"MULTILEVEL INHERITENCE\")\n",
        "class parent1:\n",
        "    def fun1(self):\n",
        "        print(\"function 1\")\n",
        "class parent2(parent1):\n",
        "    def fun2(self):\n",
        "        print(\"function 2\")\n",
        "class child(parent2):\n",
        "    def fun3(self):\n",
        "        print(\"function 3\")\n",
        "ob=child()\n",
        "ob.fun1()\n",
        "ob.fun2()\n",
        "#1.d)hierarichal inheritence\n",
        "print(\"HIERARICHAL INHERITENCE\")\n",
        "class parent:\n",
        "    def fun1(self):\n",
        "        print(\"function 1\")\n",
        "class child1(parent):\n",
        "    def fun2(self):\n",
        "        print(\"function 2\")\n",
        "class child2(parent):\n",
        "    def fun3(self):\n",
        "        print(\"function 3\")\n",
        "ob=child2()\n",
        "ob.fun1()\n",
        "ob.fun3()\n",
        "#1.e)hybrid inheritence\n",
        "print(\"HYBRID INHERITENCE\")\n",
        "class parent1:\n",
        "    def fun1(self):\n",
        "        print(\"function 1\")\n",
        "class parent2:\n",
        "    def fun4(self):\n",
        "        print(\"function 4\")\n",
        "class child1(parent1):\n",
        "    def fun2(self):\n",
        "        print(\"function 2\")\n",
        "class child2(parent1,parent2):\n",
        "    def fun3(self):\n",
        "        print(\"function 3\")\n",
        "ob=child2()\n",
        "ob.fun1()\n",
        "ob.fun4()\n",
        "print(\"________________\")\n",
        "#2.)polymorphism\n",
        "print(\"POLYMORPHISM\")\n",
        "#overriding a variable\n",
        "class parent:\n",
        "    name=\"priya\"\n",
        "class child(parent):\n",
        "    name=\"dharshini\"#overriding is done here\n",
        "ob=child()\n",
        "ob.name\n",
        "#overriding a method\n",
        "class parent:\n",
        "    def name(self):\n",
        "        return 0\n",
        "class child(parent):\n",
        "    def name(self):\n",
        "        return 1#overriding is done here\n",
        "ob=child()\n",
        "print(ob.name())\n",
        "ob=parent()\n",
        "print(ob.name())"
      ],
      "execution_count": null,
      "outputs": [
        {
          "output_type": "stream",
          "text": [
            "SINGLE INHERITENCE\n",
            "function 1\n",
            "MULTIPLE INHERITENCE\n",
            "function 1\n",
            "function 2\n",
            "MULTILEVEL INHERITENCE\n",
            "function 1\n",
            "function 2\n",
            "HIERARICHAL INHERITENCE\n",
            "function 1\n",
            "function 3\n",
            "HYBRID INHERITENCE\n",
            "function 1\n",
            "function 4\n",
            "________________\n",
            "POLYMORPHISM\n",
            "1\n",
            "0\n"
          ],
          "name": "stdout"
        }
      ]
    },
    {
      "cell_type": "markdown",
      "metadata": {
        "id": "q_hFGr51RboN"
      },
      "source": [
        "**b)** **Write a program to implement files**"
      ]
    },
    {
      "cell_type": "markdown",
      "metadata": {
        "id": "Mb7CZWHVSdNG"
      },
      "source": [
        "1)FILE ATTRIBUTES"
      ]
    },
    {
      "cell_type": "code",
      "metadata": {
        "id": "QZQSUh-eRkG0",
        "colab": {
          "base_uri": "https://localhost:8080/"
        },
        "outputId": "8039804a-5d8c-4720-e1b4-90a71a9050ff"
      },
      "source": [
        "file=open(\"/content/drive/MyDrive/machine_learning/income.txt\",\"r\")\n",
        "print(\"Name of the file:\",file.name)\n",
        "print(\"File open status:\",file.closed)\n",
        "print(\"File opened mode:\",file.mode)\n",
        "print(\"Content in the file:\")\n",
        "print(file.read())\n",
        "file.close()\n",
        "print(\"File open status:\",file.closed)"
      ],
      "execution_count": null,
      "outputs": [
        {
          "output_type": "stream",
          "text": [
            "Name of the file: /content/drive/MyDrive/machine_learning/income.txt\n",
            "File open status: False\n",
            "File opened mode: r\n",
            "Content in the file:\n",
            "Name,Age,Income($)\n",
            "Rob,27,70000\n",
            "Michael,29,90000\n",
            "Mohan,29,61000\n",
            "Ismail,28,60000\n",
            "Kory,42,150000\n",
            "Gautam,39,155000\n",
            "David,41,160000\n",
            "Andrea,38,162000\n",
            "Brad,36,156000\n",
            "Angelina,35,130000\n",
            "Donald,37,137000\n",
            "Tom,26,45000\n",
            "Arnold,27,48000\n",
            "Jared,28,51000\n",
            "Stark,29,49500\n",
            "Ranbir,32,53000\n",
            "Dipika,40,65000\n",
            "Priyanka,41,63000\n",
            "Nick,43,64000\n",
            "Alia,39,80000\n",
            "Sid,41,82000\n",
            "Abdul,39,58000\n",
            "\n",
            "\n",
            "\n",
            "File open status: True\n"
          ],
          "name": "stdout"
        }
      ]
    },
    {
      "cell_type": "markdown",
      "metadata": {
        "id": "TxQTsptrSlxS"
      },
      "source": [
        "2)FILE OPERATIONS"
      ]
    },
    {
      "cell_type": "code",
      "metadata": {
        "colab": {
          "base_uri": "https://localhost:8080/"
        },
        "id": "p_8XNuDKSJHU",
        "outputId": "f6ef89e5-abf9-4899-f6b6-a8c9901ad385"
      },
      "source": [
        "import os\n",
        "f1=open(\"text2.txt\",\"w\")\n",
        "f1.write(\"Welcome to Artificial intelligence\")\n",
        "f1.close()\n",
        "print(\"New file \\\"text2.txt\\\"is created in the path.\")\n",
        "f1=open(\"text2.txt\",\"a\")\n",
        "f1.write(\" Happy Learning\")\n",
        "f1.close()\n",
        "f1=open(\"text2.txt\",\"r\")\n",
        "print(\"Filepointer position when it was opened: \", f1.tell())\n",
        "f1.seek(3)\n",
        "print(\"Filepointer position after seek(): \", f1.tell())\n",
        "print(\"Contents in file: \" , f1.read())\n",
        "print(\"Filepointer position after read(): \", f1.tell())\n",
        "f1.close()\n",
        "os.rename(\"text2.txt\",\"text3.txt\")\n",
        "os.remove(\"text3.txt\")\n"
      ],
      "execution_count": null,
      "outputs": [
        {
          "output_type": "stream",
          "text": [
            "New file \"text2.txt\"is created in the path.\n",
            "Filepointer position when it was opened:  0\n",
            "Filepointer position after seek():  3\n",
            "Contents in file:  come to python class Happy Learning\n",
            "Filepointer position after read():  38\n"
          ],
          "name": "stdout"
        }
      ]
    },
    {
      "cell_type": "markdown",
      "metadata": {
        "id": "qgS1Z-xkRknz"
      },
      "source": [
        "**c)** **Write a program to illustrate handling**"
      ]
    },
    {
      "cell_type": "code",
      "metadata": {
        "id": "tFnIaiRBRti1",
        "colab": {
          "base_uri": "https://localhost:8080/"
        },
        "outputId": "4f4230cc-5c5d-48e3-ea6f-533a27f3de79"
      },
      "source": [
        "try:\n",
        "    num=int(input(\"Enter numerator: \"))\n",
        "    den=int(input(\"enter denominator: \"))\n",
        "    q=num/den\n",
        "    print(\"Qutioent= \",q)\n",
        "except ZeroDivisionError:\n",
        "    print(\"Denominator is zero\")\n",
        "except ValueError:\n",
        "    print(\"Please eneter only digits\")\n",
        "finally:\n",
        "    print(\"this is finally block. this will be executed all the time..\");\n"
      ],
      "execution_count": null,
      "outputs": [
        {
          "output_type": "stream",
          "text": [
            "Enter numerator: 34\n",
            "enter denominator: 6\n",
            "Qutioent=  5.666666666666667\n",
            "this is finally block. this will be executed all the time..\n"
          ],
          "name": "stdout"
        }
      ]
    },
    {
      "cell_type": "markdown",
      "metadata": {
        "id": "d5MAx0ePRxZu"
      },
      "source": [
        "# **Exercise:5**"
      ]
    },
    {
      "cell_type": "markdown",
      "metadata": {
        "id": "hK3qHc7QR2F5"
      },
      "source": [
        "**a)** **Write a program using scikit-learn to implement K-means Clustering**"
      ]
    },
    {
      "cell_type": "code",
      "metadata": {
        "id": "1CRsaRUfSHLu"
      },
      "source": [
        "from sklearn.cluster import KMeans\n",
        "import pandas as pd\n",
        "from sklearn.preprocessing import MinMaxScaler\n",
        "from matplotlib import pyplot as plt\n",
        "%matplotlib inline"
      ],
      "execution_count": null,
      "outputs": []
    },
    {
      "cell_type": "code",
      "metadata": {
        "colab": {
          "base_uri": "https://localhost:8080/",
          "height": 204
        },
        "id": "ZBeEdIJWib58",
        "outputId": "4a14bbc0-45c0-4eca-c1a5-0284dca5d8c1"
      },
      "source": [
        "df = pd.read_csv(\"/content/drive/MyDrive/machine_learning/income.txt\")\n",
        "df.head()"
      ],
      "execution_count": null,
      "outputs": [
        {
          "output_type": "execute_result",
          "data": {
            "text/html": [
              "<div>\n",
              "<style scoped>\n",
              "    .dataframe tbody tr th:only-of-type {\n",
              "        vertical-align: middle;\n",
              "    }\n",
              "\n",
              "    .dataframe tbody tr th {\n",
              "        vertical-align: top;\n",
              "    }\n",
              "\n",
              "    .dataframe thead th {\n",
              "        text-align: right;\n",
              "    }\n",
              "</style>\n",
              "<table border=\"1\" class=\"dataframe\">\n",
              "  <thead>\n",
              "    <tr style=\"text-align: right;\">\n",
              "      <th></th>\n",
              "      <th>Name</th>\n",
              "      <th>Age</th>\n",
              "      <th>Income($)</th>\n",
              "    </tr>\n",
              "  </thead>\n",
              "  <tbody>\n",
              "    <tr>\n",
              "      <th>0</th>\n",
              "      <td>Rob</td>\n",
              "      <td>27</td>\n",
              "      <td>70000</td>\n",
              "    </tr>\n",
              "    <tr>\n",
              "      <th>1</th>\n",
              "      <td>Michael</td>\n",
              "      <td>29</td>\n",
              "      <td>90000</td>\n",
              "    </tr>\n",
              "    <tr>\n",
              "      <th>2</th>\n",
              "      <td>Mohan</td>\n",
              "      <td>29</td>\n",
              "      <td>61000</td>\n",
              "    </tr>\n",
              "    <tr>\n",
              "      <th>3</th>\n",
              "      <td>Ismail</td>\n",
              "      <td>28</td>\n",
              "      <td>60000</td>\n",
              "    </tr>\n",
              "    <tr>\n",
              "      <th>4</th>\n",
              "      <td>Kory</td>\n",
              "      <td>42</td>\n",
              "      <td>150000</td>\n",
              "    </tr>\n",
              "  </tbody>\n",
              "</table>\n",
              "</div>"
            ],
            "text/plain": [
              "      Name  Age  Income($)\n",
              "0      Rob   27      70000\n",
              "1  Michael   29      90000\n",
              "2    Mohan   29      61000\n",
              "3   Ismail   28      60000\n",
              "4     Kory   42     150000"
            ]
          },
          "metadata": {
            "tags": []
          },
          "execution_count": 2
        }
      ]
    },
    {
      "cell_type": "code",
      "metadata": {
        "colab": {
          "base_uri": "https://localhost:8080/",
          "height": 296
        },
        "id": "dyIqbtgsi0l9",
        "outputId": "84cee233-79eb-4616-c55b-13c4425617a4"
      },
      "source": [
        "#visualisation using scatterplot\n",
        "plt.scatter(df['Age'],df['Income($)'])\n",
        "plt.xlabel('Age')\n",
        "plt.ylabel('Income($)')"
      ],
      "execution_count": null,
      "outputs": [
        {
          "output_type": "execute_result",
          "data": {
            "text/plain": [
              "Text(0, 0.5, 'Income($)')"
            ]
          },
          "metadata": {
            "tags": []
          },
          "execution_count": 3
        },
        {
          "output_type": "display_data",
          "data": {
            "image/png": "[encoded data removed]",
            "text/plain": [
              "<Figure size 432x288 with 1 Axes>"
            ]
          },
          "metadata": {
            "tags": [],
            "needs_background": "light"
          }
        }
      ]
    },
    {
      "cell_type": "code",
      "metadata": {
        "colab": {
          "base_uri": "https://localhost:8080/"
        },
        "id": "tmjAcewxjNnZ",
        "outputId": "4eee9582-9f29-443d-8d18-9bfc2cdf3893"
      },
      "source": [
        "km = KMeans(n_clusters=3)#n_clusters value is choosen 3 as in scatter plot we can assume as 3 clusters\n",
        "km"
      ],
      "execution_count": null,
      "outputs": [
        {
          "output_type": "execute_result",
          "data": {
            "text/plain": [
              "KMeans(algorithm='auto', copy_x=True, init='k-means++', max_iter=300,\n",
              "       n_clusters=3, n_init=10, n_jobs=None, precompute_distances='auto',\n",
              "       random_state=None, tol=0.0001, verbose=0)"
            ]
          },
          "metadata": {
            "tags": []
          },
          "execution_count": 4
        }
      ]
    },
    {
      "cell_type": "code",
      "metadata": {
        "colab": {
          "base_uri": "https://localhost:8080/"
        },
        "id": "QpuBUSfqjzIK",
        "outputId": "f44480f4-9995-4ab1-e2c6-d2fc3e6d7d15"
      },
      "source": [
        "y_predicted = km.fit_predict(df[['Age','Income($)']])#training and predicting together as it is unsupervised\n",
        "y_predicted#it predicted into 3 clusters(0,1,2)"
      ],
      "execution_count": null,
      "outputs": [
        {
          "output_type": "execute_result",
          "data": {
            "text/plain": [
              "array([2, 2, 1, 1, 0, 0, 0, 0, 0, 0, 0, 1, 1, 1, 1, 1, 1, 1, 1, 2, 2, 1],\n",
              "      dtype=int32)"
            ]
          },
          "metadata": {
            "tags": []
          },
          "execution_count": 5
        }
      ]
    },
    {
      "cell_type": "code",
      "metadata": {
        "colab": {
          "base_uri": "https://localhost:8080/",
          "height": 204
        },
        "id": "d9vx007kj668",
        "outputId": "f4175738-265f-46e7-f0ad-9c40e23345a1"
      },
      "source": [
        "df['cluster']=y_predicted\n",
        "df.head()"
      ],
      "execution_count": null,
      "outputs": [
        {
          "output_type": "execute_result",
          "data": {
            "text/html": [
              "<div>\n",
              "<style scoped>\n",
              "    .dataframe tbody tr th:only-of-type {\n",
              "        vertical-align: middle;\n",
              "    }\n",
              "\n",
              "    .dataframe tbody tr th {\n",
              "        vertical-align: top;\n",
              "    }\n",
              "\n",
              "    .dataframe thead th {\n",
              "        text-align: right;\n",
              "    }\n",
              "</style>\n",
              "<table border=\"1\" class=\"dataframe\">\n",
              "  <thead>\n",
              "    <tr style=\"text-align: right;\">\n",
              "      <th></th>\n",
              "      <th>Name</th>\n",
              "      <th>Age</th>\n",
              "      <th>Income($)</th>\n",
              "      <th>cluster</th>\n",
              "    </tr>\n",
              "  </thead>\n",
              "  <tbody>\n",
              "    <tr>\n",
              "      <th>0</th>\n",
              "      <td>Rob</td>\n",
              "      <td>27</td>\n",
              "      <td>70000</td>\n",
              "      <td>2</td>\n",
              "    </tr>\n",
              "    <tr>\n",
              "      <th>1</th>\n",
              "      <td>Michael</td>\n",
              "      <td>29</td>\n",
              "      <td>90000</td>\n",
              "      <td>2</td>\n",
              "    </tr>\n",
              "    <tr>\n",
              "      <th>2</th>\n",
              "      <td>Mohan</td>\n",
              "      <td>29</td>\n",
              "      <td>61000</td>\n",
              "      <td>1</td>\n",
              "    </tr>\n",
              "    <tr>\n",
              "      <th>3</th>\n",
              "      <td>Ismail</td>\n",
              "      <td>28</td>\n",
              "      <td>60000</td>\n",
              "      <td>1</td>\n",
              "    </tr>\n",
              "    <tr>\n",
              "      <th>4</th>\n",
              "      <td>Kory</td>\n",
              "      <td>42</td>\n",
              "      <td>150000</td>\n",
              "      <td>0</td>\n",
              "    </tr>\n",
              "  </tbody>\n",
              "</table>\n",
              "</div>"
            ],
            "text/plain": [
              "      Name  Age  Income($)  cluster\n",
              "0      Rob   27      70000        2\n",
              "1  Michael   29      90000        2\n",
              "2    Mohan   29      61000        1\n",
              "3   Ismail   28      60000        1\n",
              "4     Kory   42     150000        0"
            ]
          },
          "metadata": {
            "tags": []
          },
          "execution_count": 6
        }
      ]
    },
    {
      "cell_type": "code",
      "metadata": {
        "colab": {
          "base_uri": "https://localhost:8080/",
          "height": 313
        },
        "id": "V8YMvMjBkZ8K",
        "outputId": "f1dbd693-a833-4c58-aab5-025df0d62f86"
      },
      "source": [
        "df1 = df[df.cluster==0]\n",
        "df2 = df[df.cluster==1]\n",
        "df3 = df[df.cluster==2]\n",
        "plt.scatter(df1.Age,df1['Income($)'],color='green')\n",
        "plt.scatter(df2.Age,df2['Income($)'],color='red')\n",
        "plt.scatter(df3.Age,df3['Income($)'],color='black')\n",
        "plt.xlabel('Age')\n",
        "plt.ylabel('Income ($)')\n",
        "plt.legend()"
      ],
      "execution_count": null,
      "outputs": [
        {
          "output_type": "stream",
          "text": [
            "No handles with labels found to put in legend.\n"
          ],
          "name": "stderr"
        },
        {
          "output_type": "execute_result",
          "data": {
            "text/plain": [
              "<matplotlib.legend.Legend at 0x7f2a3762fa10>"
            ]
          },
          "metadata": {
            "tags": []
          },
          "execution_count": 7
        },
        {
          "output_type": "display_data",
          "data": {
            "image/png": "[encoded data removed]",
            "text/plain": [
              "<Figure size 432x288 with 1 Axes>"
            ]
          },
          "metadata": {
            "tags": [],
            "needs_background": "light"
          }
        }
      ]
    },
    {
      "cell_type": "code",
      "metadata": {
        "colab": {
          "base_uri": "https://localhost:8080/",
          "height": 204
        },
        "id": "l1K_na2ilNoI",
        "outputId": "81aa4a5c-cdac-4b41-e067-2884604e5afb"
      },
      "source": [
        "#In the above scatter plot,1 cluster is crt bt remaining 2 clusters are not perfect this is because of scaling(x axis is scaled from 27.5 and y axis is scaled from 40,000)\n",
        "#To avoid this problem we have to do Preprocessing using min max scaler(which scales from 0-1 for both x axis and y axis)\n",
        "scaler = MinMaxScaler()\n",
        "scaler.fit(df[['Income($)']])\n",
        "df['Income($)'] = scaler.transform(df[['Income($)']])\n",
        "scaler.fit(df[['Age']])\n",
        "df['Age'] = scaler.transform(df[['Age']])\n",
        "df.head()\n",
        "#now age,income will be scaled from 0-1"
      ],
      "execution_count": null,
      "outputs": [
        {
          "output_type": "execute_result",
          "data": {
            "text/html": [
              "<div>\n",
              "<style scoped>\n",
              "    .dataframe tbody tr th:only-of-type {\n",
              "        vertical-align: middle;\n",
              "    }\n",
              "\n",
              "    .dataframe tbody tr th {\n",
              "        vertical-align: top;\n",
              "    }\n",
              "\n",
              "    .dataframe thead th {\n",
              "        text-align: right;\n",
              "    }\n",
              "</style>\n",
              "<table border=\"1\" class=\"dataframe\">\n",
              "  <thead>\n",
              "    <tr style=\"text-align: right;\">\n",
              "      <th></th>\n",
              "      <th>Name</th>\n",
              "      <th>Age</th>\n",
              "      <th>Income($)</th>\n",
              "      <th>cluster</th>\n",
              "    </tr>\n",
              "  </thead>\n",
              "  <tbody>\n",
              "    <tr>\n",
              "      <th>0</th>\n",
              "      <td>Rob</td>\n",
              "      <td>0.058824</td>\n",
              "      <td>0.213675</td>\n",
              "      <td>2</td>\n",
              "    </tr>\n",
              "    <tr>\n",
              "      <th>1</th>\n",
              "      <td>Michael</td>\n",
              "      <td>0.176471</td>\n",
              "      <td>0.384615</td>\n",
              "      <td>2</td>\n",
              "    </tr>\n",
              "    <tr>\n",
              "      <th>2</th>\n",
              "      <td>Mohan</td>\n",
              "      <td>0.176471</td>\n",
              "      <td>0.136752</td>\n",
              "      <td>1</td>\n",
              "    </tr>\n",
              "    <tr>\n",
              "      <th>3</th>\n",
              "      <td>Ismail</td>\n",
              "      <td>0.117647</td>\n",
              "      <td>0.128205</td>\n",
              "      <td>1</td>\n",
              "    </tr>\n",
              "    <tr>\n",
              "      <th>4</th>\n",
              "      <td>Kory</td>\n",
              "      <td>0.941176</td>\n",
              "      <td>0.897436</td>\n",
              "      <td>0</td>\n",
              "    </tr>\n",
              "  </tbody>\n",
              "</table>\n",
              "</div>"
            ],
            "text/plain": [
              "      Name       Age  Income($)  cluster\n",
              "0      Rob  0.058824   0.213675        2\n",
              "1  Michael  0.176471   0.384615        2\n",
              "2    Mohan  0.176471   0.136752        1\n",
              "3   Ismail  0.117647   0.128205        1\n",
              "4     Kory  0.941176   0.897436        0"
            ]
          },
          "metadata": {
            "tags": []
          },
          "execution_count": 10
        }
      ]
    },
    {
      "cell_type": "code",
      "metadata": {
        "colab": {
          "base_uri": "https://localhost:8080/"
        },
        "id": "__a8gVrTm_db",
        "outputId": "701e9dd1-a902-4dc5-d373-6f721d511942"
      },
      "source": [
        "#now again k-means should be applied\n",
        "km = KMeans(n_clusters=3)\n",
        "y_predicted = km.fit_predict(df[['Age','Income($)']])\n",
        "y_predicted"
      ],
      "execution_count": null,
      "outputs": [
        {
          "output_type": "execute_result",
          "data": {
            "text/plain": [
              "array([1, 1, 1, 1, 2, 2, 2, 2, 2, 2, 2, 1, 1, 1, 1, 1, 0, 0, 0, 0, 0, 0],\n",
              "      dtype=int32)"
            ]
          },
          "metadata": {
            "tags": []
          },
          "execution_count": 11
        }
      ]
    },
    {
      "cell_type": "code",
      "metadata": {
        "colab": {
          "base_uri": "https://localhost:8080/",
          "height": 204
        },
        "id": "WeHcnLIJnHGI",
        "outputId": "225ef4e1-d587-421a-c058-33728c9d3fd8"
      },
      "source": [
        "df['cluster']=y_predicted\n",
        "df.head()"
      ],
      "execution_count": null,
      "outputs": [
        {
          "output_type": "execute_result",
          "data": {
            "text/html": [
              "<div>\n",
              "<style scoped>\n",
              "    .dataframe tbody tr th:only-of-type {\n",
              "        vertical-align: middle;\n",
              "    }\n",
              "\n",
              "    .dataframe tbody tr th {\n",
              "        vertical-align: top;\n",
              "    }\n",
              "\n",
              "    .dataframe thead th {\n",
              "        text-align: right;\n",
              "    }\n",
              "</style>\n",
              "<table border=\"1\" class=\"dataframe\">\n",
              "  <thead>\n",
              "    <tr style=\"text-align: right;\">\n",
              "      <th></th>\n",
              "      <th>Name</th>\n",
              "      <th>Age</th>\n",
              "      <th>Income($)</th>\n",
              "      <th>cluster</th>\n",
              "    </tr>\n",
              "  </thead>\n",
              "  <tbody>\n",
              "    <tr>\n",
              "      <th>0</th>\n",
              "      <td>Rob</td>\n",
              "      <td>0.058824</td>\n",
              "      <td>0.213675</td>\n",
              "      <td>1</td>\n",
              "    </tr>\n",
              "    <tr>\n",
              "      <th>1</th>\n",
              "      <td>Michael</td>\n",
              "      <td>0.176471</td>\n",
              "      <td>0.384615</td>\n",
              "      <td>1</td>\n",
              "    </tr>\n",
              "    <tr>\n",
              "      <th>2</th>\n",
              "      <td>Mohan</td>\n",
              "      <td>0.176471</td>\n",
              "      <td>0.136752</td>\n",
              "      <td>1</td>\n",
              "    </tr>\n",
              "    <tr>\n",
              "      <th>3</th>\n",
              "      <td>Ismail</td>\n",
              "      <td>0.117647</td>\n",
              "      <td>0.128205</td>\n",
              "      <td>1</td>\n",
              "    </tr>\n",
              "    <tr>\n",
              "      <th>4</th>\n",
              "      <td>Kory</td>\n",
              "      <td>0.941176</td>\n",
              "      <td>0.897436</td>\n",
              "      <td>2</td>\n",
              "    </tr>\n",
              "  </tbody>\n",
              "</table>\n",
              "</div>"
            ],
            "text/plain": [
              "      Name       Age  Income($)  cluster\n",
              "0      Rob  0.058824   0.213675        1\n",
              "1  Michael  0.176471   0.384615        1\n",
              "2    Mohan  0.176471   0.136752        1\n",
              "3   Ismail  0.117647   0.128205        1\n",
              "4     Kory  0.941176   0.897436        2"
            ]
          },
          "metadata": {
            "tags": []
          },
          "execution_count": 14
        }
      ]
    },
    {
      "cell_type": "code",
      "metadata": {
        "colab": {
          "base_uri": "https://localhost:8080/"
        },
        "id": "bYCCEvwxn1Ad",
        "outputId": "51dc5bf9-d9d6-4239-d0e1-1a8c78f86d66"
      },
      "source": [
        "#in k-means we have centroids\n",
        "km.cluster_centers_"
      ],
      "execution_count": null,
      "outputs": [
        {
          "output_type": "execute_result",
          "data": {
            "text/plain": [
              "array([[0.85294118, 0.2022792 ],\n",
              "       [0.1372549 , 0.11633428],\n",
              "       [0.72268908, 0.8974359 ]])"
            ]
          },
          "metadata": {
            "tags": []
          },
          "execution_count": 16
        }
      ]
    },
    {
      "cell_type": "code",
      "metadata": {
        "colab": {
          "base_uri": "https://localhost:8080/",
          "height": 282
        },
        "id": "Jfpgv5OZnPvA",
        "outputId": "ae6ca11f-639d-48a5-cff7-7c9d3216071b"
      },
      "source": [
        "#scatterplot again after scaling with centers for good visualisation\n",
        "df1 = df[df.cluster==0]\n",
        "df2 = df[df.cluster==1]\n",
        "df3 = df[df.cluster==2]\n",
        "plt.scatter(df1['Age'],df1['Income($)'],color='green')\n",
        "plt.scatter(df2['Age'],df2['Income($)'],color='red')\n",
        "plt.scatter(df3['Age'],df3['Income($)'],color='blue')\n",
        "plt.scatter(km.cluster_centers_[:,0],km.cluster_centers_[:,1],color='black',marker='*',label='centroid')#[:,0] means all the rows and first col of km.cluster_centers_\n",
        "plt.legend()"
      ],
      "execution_count": null,
      "outputs": [
        {
          "output_type": "execute_result",
          "data": {
            "text/plain": [
              "<matplotlib.legend.Legend at 0x7f2a35e0ff50>"
            ]
          },
          "metadata": {
            "tags": []
          },
          "execution_count": 22
        },
        {
          "output_type": "display_data",
          "data": {
            "image/png": "[encoded data removed]",
            "text/plain": [
              "<Figure size 432x288 with 1 Axes>"
            ]
          },
          "metadata": {
            "tags": [],
            "needs_background": "light"
          }
        }
      ]
    },
    {
      "cell_type": "code",
      "metadata": {
        "id": "jJRp9ChynpG1"
      },
      "source": [
        "#now clusters are good,now we have to plot elbow plot\n",
        "sse = []#sum of squared error\n",
        "k_rng = range(1,10)\n",
        "for k in k_rng:\n",
        "    km = KMeans(n_clusters=k)\n",
        "    km.fit(df[['Age','Income($)']])\n",
        "    sse.append(km.inertia_)#in kmeans we have inertia which gives sse"
      ],
      "execution_count": null,
      "outputs": []
    },
    {
      "cell_type": "code",
      "metadata": {
        "colab": {
          "base_uri": "https://localhost:8080/"
        },
        "id": "tII8LspPqK19",
        "outputId": "d9916d28-e46b-46d9-ce9f-70520a58f0d8"
      },
      "source": [
        "sse"
      ],
      "execution_count": null,
      "outputs": [
        {
          "output_type": "execute_result",
          "data": {
            "text/plain": [
              "[5.434011511988176,\n",
              " 2.0911363886990766,\n",
              " 0.47507834985530945,\n",
              " 0.3491047094419564,\n",
              " 0.2664030124668415,\n",
              " 0.22443334487241418,\n",
              " 0.16858512236029755,\n",
              " 0.1326541982724516,\n",
              " 0.10663983840905435]"
            ]
          },
          "metadata": {
            "tags": []
          },
          "execution_count": 24
        }
      ]
    },
    {
      "cell_type": "code",
      "metadata": {
        "colab": {
          "base_uri": "https://localhost:8080/",
          "height": 296
        },
        "id": "Zg7x90CdqMK-",
        "outputId": "dd9f834b-e9b0-45fa-921b-2520937d0a05"
      },
      "source": [
        "plt.xlabel('K')\n",
        "plt.ylabel('Sum of squared error')\n",
        "plt.plot(k_rng,sse)"
      ],
      "execution_count": null,
      "outputs": [
        {
          "output_type": "execute_result",
          "data": {
            "text/plain": [
              "[<matplotlib.lines.Line2D at 0x7f2a35daba10>]"
            ]
          },
          "metadata": {
            "tags": []
          },
          "execution_count": 25
        },
        {
          "output_type": "display_data",
          "data": {
            "image/png": "[encoded data removed]",
            "text/plain": [
              "<Figure size 432x288 with 1 Axes>"
            ]
          },
          "metadata": {
            "tags": [],
            "needs_background": "light"
          }
        }
      ]
    },
    {
      "cell_type": "markdown",
      "metadata": {
        "id": "J-fiSu3C_CIF"
      },
      "source": [
        "**b)Program to calculate entrophy and information gain**"
      ]
    },
    {
      "cell_type": "markdown",
      "metadata": {
        "id": "F2Cxfd8yBsiL"
      },
      "source": [
        "1.ENTROPY"
      ]
    },
    {
      "cell_type": "code",
      "metadata": {
        "colab": {
          "base_uri": "https://localhost:8080/"
        },
        "id": "25mfo9AM_As9",
        "outputId": "b928b656-8fa6-4563-a6f5-8f8c782ed6fb"
      },
      "source": [
        "#Entropy is randomness\n",
        "pip install scipy"
      ],
      "execution_count": null,
      "outputs": [
        {
          "output_type": "stream",
          "text": [
            "Requirement already satisfied: scipy in /usr/local/lib/python3.7/dist-packages (1.4.1)\n",
            "Requirement already satisfied: numpy>=1.13.3 in /usr/local/lib/python3.7/dist-packages (from scipy) (1.19.5)\n"
          ],
          "name": "stdout"
        }
      ]
    },
    {
      "cell_type": "code",
      "metadata": {
        "id": "UjczJI7fBnfk"
      },
      "source": [
        "import pandas as pd\n",
        "import numpy as np\n",
        "from scipy.stats import entropy as en"
      ],
      "execution_count": null,
      "outputs": []
    },
    {
      "cell_type": "code",
      "metadata": {
        "id": "uyyqmtHVCUVv"
      },
      "source": [
        "a=[1,2,3,4,1,2]"
      ],
      "execution_count": null,
      "outputs": []
    },
    {
      "cell_type": "code",
      "metadata": {
        "colab": {
          "base_uri": "https://localhost:8080/"
        },
        "id": "azdblK4qCej_",
        "outputId": "8cbd0533-2e24-4171-e8c4-8c16d27b6370"
      },
      "source": [
        "a=pd.Series"
      ],
      "execution_count": null,
      "outputs": [
        {
          "output_type": "execute_result",
          "data": {
            "text/plain": [
              "0    1\n",
              "1    2\n",
              "2    3\n",
              "3    4\n",
              "4    1\n",
              "5    2\n",
              "dtype: int64"
            ]
          },
          "metadata": {
            "tags": []
          },
          "execution_count": 4
        }
      ]
    },
    {
      "cell_type": "code",
      "metadata": {
        "colab": {
          "base_uri": "https://localhost:8080/"
        },
        "id": "NOklPHpZCjaJ",
        "outputId": "707ecf8b-655b-43d3-8bd5-b5876de4c451"
      },
      "source": [
        "data=a.value_counts()\n",
        "en(data)"
      ],
      "execution_count": null,
      "outputs": [
        {
          "output_type": "execute_result",
          "data": {
            "text/plain": [
              "1.329661348854758"
            ]
          },
          "metadata": {
            "tags": []
          },
          "execution_count": 8
        }
      ]
    },
    {
      "cell_type": "markdown",
      "metadata": {
        "id": "J_ZuvRlhE2fe"
      },
      "source": [
        "2)INFORMATION GAIN"
      ]
    },
    {
      "cell_type": "code",
      "metadata": {
        "id": "UkSMTjd6E5zI",
        "colab": {
          "base_uri": "https://localhost:8080/"
        },
        "outputId": "28b20b55-396c-4fe8-c197-cfd0b00dd006"
      },
      "source": [
        "from math import log2\n",
        "\n",
        "def entropy(class0, class1):\n",
        "\treturn -(class0 * log2(class0) + class1 * log2(class1))\n",
        "\n",
        "class0 = 14 /20\n",
        "class1 = 8 /20\n",
        "# calculate entropy before the change\n",
        "s_entropy = entropy(class0, class1)\n",
        "print('Dataset Entropy: %.3f bits' % s_entropy)\n",
        "\n",
        "# split 1 (split via value1)\n",
        "s1_class0 = 6 / 8\n",
        "s1_class1 = 2 / 8\n",
        "# calculate the entropy of the first group\n",
        "s1_entropy = entropy(s1_class0, s1_class1)\n",
        "print('Group1 Entropy: %.3f bits' % s1_entropy)\n",
        "\n",
        "# split 2  (split via value2)\n",
        "s2_class0 = 5 / 10\n",
        "s2_class1 = 5 / 10\n",
        "# calculate the entropy of the second group\n",
        "s2_entropy = entropy(s2_class0, s2_class1)\n",
        "print('Group2 Entropy: %.3f bits' % s2_entropy)\n",
        "\n",
        "# calculate the information gain\n",
        "gain = s_entropy - (8/20 * s1_entropy + 12/20 * s2_entropy)\n",
        "print('Information Gain: %.3f bits' % gain)"
      ],
      "execution_count": null,
      "outputs": [
        {
          "output_type": "stream",
          "text": [
            "Dataset Entropy: 0.889 bits\n",
            "Group1 Entropy: 0.811 bits\n",
            "Group2 Entropy: 1.000 bits\n",
            "Information Gain: -0.036 bits\n"
          ],
          "name": "stdout"
        }
      ]
    },
    {
      "cell_type": "markdown",
      "metadata": {
        "id": "AoCl1M-dgkI5"
      },
      "source": [
        "**c)Program to implement perceptron**"
      ]
    },
    {
      "cell_type": "code",
      "metadata": {
        "id": "1ukgR7jwne8p"
      },
      "source": [
        "import numpy as np \n",
        "import pandas as pd \n",
        "import matplotlib.pyplot as plt\n",
        "\n",
        "\n",
        "class Perceptron():\n",
        "    def __init__(self,eta=0.01,n_iter=10):\n",
        "        self.eta = eta\n",
        "        self.n_iter = n_iter \n",
        "        \n",
        "    def fit(self,X,y):\n",
        "        self.w_ = np.zeros(1+X.shape[1])\n",
        "        self.errors_ = []\n",
        "        h = 0\n",
        "        for _ in range(self.n_iter):\n",
        "            errors = 0\n",
        "            for xi, target in zip(X,y):\n",
        "                update = self.eta*(target-self.predict(xi))\n",
        "                self.w_[1:]+=update*xi\n",
        "                self.w_[0]+=update\n",
        "                errors+=int(update != 0.0)\n",
        "                h+=1\n",
        "            self.errors_.append(errors)\n",
        "        print(\"value of h: \",h)\n",
        "        return self\n",
        "    \n",
        "    def net_input(self,X):\n",
        "        return np.dot(X,self.w_[1:])+self.w_[0]\n",
        "    \n",
        "    def predict(self,X):\n",
        "        return np.where(self.net_input(X)>=0.0,1,-1)"
      ],
      "execution_count": null,
      "outputs": []
    },
    {
      "cell_type": "code",
      "metadata": {
        "id": "DmE1HPajnhYx"
      },
      "source": [
        "data = pd.read_csv(\"/content/drive/MyDrive/machine_learning/iris (1).csv\",header=None)\n",
        "y = data.iloc[0:100,4].values\n",
        "y = np.where(y == 'Iris-setosa',-1,1)\n",
        "X = data.iloc[0:100,[0,2]].values"
      ],
      "execution_count": null,
      "outputs": []
    },
    {
      "cell_type": "code",
      "metadata": {
        "colab": {
          "base_uri": "https://localhost:8080/",
          "height": 279
        },
        "id": "D97ba2hOqNxi",
        "outputId": "4c8b93c9-cb02-46d4-f95f-bbf7533ffdaa"
      },
      "source": [
        "plt.scatter(X[:50,0],X[:50,1],color='red',marker='o',label='setosa')\n",
        "plt.scatter(X[50:100,0],X[50:100,1],color='blue',marker='x',label='versicolor')\n",
        "plt.xlabel('petal length')\n",
        "plt.ylabel('sepal length')\n",
        "plt.legend(loc='upper left')\n",
        "plt.show()"
      ],
      "execution_count": null,
      "outputs": [
        {
          "output_type": "display_data",
          "data": {
            "image/png": "[encoded data removed]",
            "text/plain": [
              "<Figure size 432x288 with 1 Axes>"
            ]
          },
          "metadata": {
            "tags": [],
            "needs_background": "light"
          }
        }
      ]
    },
    {
      "cell_type": "code",
      "metadata": {
        "colab": {
          "base_uri": "https://localhost:8080/",
          "height": 296
        },
        "id": "Pht4r4O1qYW1",
        "outputId": "2a98faed-cb77-488d-c050-8fde4dec39b3"
      },
      "source": [
        "ppn = Perceptron(eta=0.1, n_iter=10)\n",
        "ppn.fit(X,y)\n",
        "plt.plot(range(1, len(ppn.errors_)+1), ppn.errors_,marker='o')\n",
        "plt.xlabel('Epochs')\n",
        "plt.ylabel(\"Number of misclassifications\")\n",
        "plt.show()"
      ],
      "execution_count": null,
      "outputs": [
        {
          "output_type": "stream",
          "text": [
            "value of h:  1000\n"
          ],
          "name": "stdout"
        },
        {
          "output_type": "display_data",
          "data": {
            "image/png": "[encoded data removed]",
            "text/plain": [
              "<Figure size 432x288 with 1 Axes>"
            ]
          },
          "metadata": {
            "tags": [],
            "needs_background": "light"
          }
        }
      ]
    },
    {
      "cell_type": "markdown",
      "metadata": {
        "id": "LS3KbauF3AzK"
      },
      "source": [
        "# **Exercise:6**"
      ]
    },
    {
      "cell_type": "markdown",
      "metadata": {
        "id": "mBjrZhvG3GX6"
      },
      "source": [
        "**a)Generate a decision tree.Find thr depth of decision treea and observe the results then propose some changes in DecisionTreeClassifier function to limit**"
      ]
    },
    {
      "cell_type": "code",
      "metadata": {
        "id": "hXpOl0RX3Xcq"
      },
      "source": [
        "import pandas as pd\n",
        "import numpy as np\n",
        "import matplotlib.pyplot as plt\n",
        "import seaborn as sns\n",
        "from sklearn.metrics import accuracy_score\n",
        "from sklearn.metrics import plot_confusion_matrix\n",
        "from sklearn import tree"
      ],
      "execution_count": null,
      "outputs": []
    },
    {
      "cell_type": "code",
      "metadata": {
        "colab": {
          "base_uri": "https://localhost:8080/",
          "height": 204
        },
        "id": "wgEwqriEPq9h",
        "outputId": "5af28bbc-f712-4e18-f7fc-046bfec10b99"
      },
      "source": [
        "data=pd.read_csv('/content/drive/MyDrive/machine_learning/Purchased_Dataset.txt')\n",
        "data.head()"
      ],
      "execution_count": null,
      "outputs": [
        {
          "output_type": "execute_result",
          "data": {
            "text/html": [
              "<div>\n",
              "<style scoped>\n",
              "    .dataframe tbody tr th:only-of-type {\n",
              "        vertical-align: middle;\n",
              "    }\n",
              "\n",
              "    .dataframe tbody tr th {\n",
              "        vertical-align: top;\n",
              "    }\n",
              "\n",
              "    .dataframe thead th {\n",
              "        text-align: right;\n",
              "    }\n",
              "</style>\n",
              "<table border=\"1\" class=\"dataframe\">\n",
              "  <thead>\n",
              "    <tr style=\"text-align: right;\">\n",
              "      <th></th>\n",
              "      <th>User ID</th>\n",
              "      <th>Gender</th>\n",
              "      <th>Age</th>\n",
              "      <th>EstimatedSalary</th>\n",
              "      <th>Purchased</th>\n",
              "    </tr>\n",
              "  </thead>\n",
              "  <tbody>\n",
              "    <tr>\n",
              "      <th>0</th>\n",
              "      <td>15624510</td>\n",
              "      <td>Male</td>\n",
              "      <td>19</td>\n",
              "      <td>19000</td>\n",
              "      <td>0</td>\n",
              "    </tr>\n",
              "    <tr>\n",
              "      <th>1</th>\n",
              "      <td>15810944</td>\n",
              "      <td>Male</td>\n",
              "      <td>35</td>\n",
              "      <td>20000</td>\n",
              "      <td>0</td>\n",
              "    </tr>\n",
              "    <tr>\n",
              "      <th>2</th>\n",
              "      <td>15668575</td>\n",
              "      <td>Female</td>\n",
              "      <td>26</td>\n",
              "      <td>43000</td>\n",
              "      <td>0</td>\n",
              "    </tr>\n",
              "    <tr>\n",
              "      <th>3</th>\n",
              "      <td>15603246</td>\n",
              "      <td>Female</td>\n",
              "      <td>27</td>\n",
              "      <td>57000</td>\n",
              "      <td>0</td>\n",
              "    </tr>\n",
              "    <tr>\n",
              "      <th>4</th>\n",
              "      <td>15804002</td>\n",
              "      <td>Male</td>\n",
              "      <td>19</td>\n",
              "      <td>76000</td>\n",
              "      <td>0</td>\n",
              "    </tr>\n",
              "  </tbody>\n",
              "</table>\n",
              "</div>"
            ],
            "text/plain": [
              "    User ID  Gender  Age  EstimatedSalary  Purchased\n",
              "0  15624510    Male   19            19000          0\n",
              "1  15810944    Male   35            20000          0\n",
              "2  15668575  Female   26            43000          0\n",
              "3  15603246  Female   27            57000          0\n",
              "4  15804002    Male   19            76000          0"
            ]
          },
          "metadata": {
            "tags": []
          },
          "execution_count": 2
        }
      ]
    },
    {
      "cell_type": "code",
      "metadata": {
        "colab": {
          "base_uri": "https://localhost:8080/"
        },
        "id": "EDaJ2rowQMiQ",
        "outputId": "4a8b8ad7-0f66-4dc5-fa53-9ff0ffae9643"
      },
      "source": [
        "data.isnull().sum()"
      ],
      "execution_count": null,
      "outputs": [
        {
          "output_type": "execute_result",
          "data": {
            "text/plain": [
              "User ID            0\n",
              "Gender             0\n",
              "Age                0\n",
              "EstimatedSalary    0\n",
              "Purchased          0\n",
              "dtype: int64"
            ]
          },
          "metadata": {
            "tags": []
          },
          "execution_count": 3
        }
      ]
    },
    {
      "cell_type": "code",
      "metadata": {
        "colab": {
          "base_uri": "https://localhost:8080/"
        },
        "id": "EB2VPx4qQNyL",
        "outputId": "20a80157-57fa-49ae-b8f7-dedaa020d8e1"
      },
      "source": [
        "print(data.groupby('Purchased').size())"
      ],
      "execution_count": null,
      "outputs": [
        {
          "output_type": "stream",
          "text": [
            "Purchased\n",
            "0    257\n",
            "1    143\n",
            "dtype: int64\n"
          ],
          "name": "stdout"
        }
      ]
    },
    {
      "cell_type": "code",
      "metadata": {
        "colab": {
          "base_uri": "https://localhost:8080/",
          "height": 350
        },
        "id": "sFj0FjvZQUgp",
        "outputId": "215d1ca2-0e88-4f1b-881c-dfec983e23d4"
      },
      "source": [
        "sns.countplot('Purchased',data=data)"
      ],
      "execution_count": null,
      "outputs": [
        {
          "output_type": "stream",
          "text": [
            "/usr/local/lib/python3.7/dist-packages/seaborn/_decorators.py:43: FutureWarning: Pass the following variable as a keyword arg: x. From version 0.12, the only valid positional argument will be `data`, and passing other arguments without an explicit keyword will result in an error or misinterpretation.\n",
            "  FutureWarning\n"
          ],
          "name": "stderr"
        },
        {
          "output_type": "execute_result",
          "data": {
            "text/plain": [
              "<matplotlib.axes._subplots.AxesSubplot at 0x7fc04d94c6d0>"
            ]
          },
          "metadata": {
            "tags": []
          },
          "execution_count": 5
        },
        {
          "output_type": "display_data",
          "data": {
            "image/png": "[encoded data removed]",
            "text/plain": [
              "<Figure size 432x288 with 1 Axes>"
            ]
          },
          "metadata": {
            "tags": [],
            "needs_background": "light"
          }
        }
      ]
    },
    {
      "cell_type": "code",
      "metadata": {
        "colab": {
          "base_uri": "https://localhost:8080/",
          "height": 567
        },
        "id": "4lXAQ-iXSxAU",
        "outputId": "96796e21-d48a-4f22-b64b-3df3d22865b0"
      },
      "source": [
        "sns.pairplot(data,hue='Purchased')"
      ],
      "execution_count": null,
      "outputs": [
        {
          "output_type": "execute_result",
          "data": {
            "text/plain": [
              "<seaborn.axisgrid.PairGrid at 0x7fc0381b5990>"
            ]
          },
          "metadata": {
            "tags": []
          },
          "execution_count": 6
        },
        {
          "output_type": "display_data",
          "data": {
            "image/png": "[encoded data removed]",
            "text/plain": [
              "<Figure size 599.875x540 with 12 Axes>"
            ]
          },
          "metadata": {
            "tags": [],
            "needs_background": "light"
          }
        }
      ]
    },
    {
      "cell_type": "code",
      "metadata": {
        "id": "0TwLr_NNQhz2"
      },
      "source": [
        "x= data.iloc[:, [2,3]].values  \n",
        "y= data.iloc[:, 4].values"
      ],
      "execution_count": null,
      "outputs": []
    },
    {
      "cell_type": "code",
      "metadata": {
        "id": "Fk2Etf1rQmyU"
      },
      "source": [
        "from sklearn.model_selection import train_test_split  \n",
        "x_train, x_test, y_train, y_test= train_test_split(x, y, test_size= 0.25, random_state=0)"
      ],
      "execution_count": null,
      "outputs": []
    },
    {
      "cell_type": "code",
      "metadata": {
        "id": "sEDO_2EwQsRk"
      },
      "source": [
        "from sklearn.preprocessing import StandardScaler    \n",
        "st_x= StandardScaler()  \n",
        "x_train= st_x.fit_transform(x_train)    \n",
        "x_test= st_x.transform(x_test)"
      ],
      "execution_count": null,
      "outputs": []
    },
    {
      "cell_type": "code",
      "metadata": {
        "id": "mqoZaBQFQtmx"
      },
      "source": [
        "from sklearn.tree import DecisionTreeClassifier  \n",
        "classifier= DecisionTreeClassifier(criterion='entropy', random_state=0)\n"
      ],
      "execution_count": null,
      "outputs": []
    },
    {
      "cell_type": "code",
      "metadata": {
        "colab": {
          "base_uri": "https://localhost:8080/"
        },
        "id": "920XufLWQyO3",
        "outputId": "d4afccef-fd7f-4593-d09b-1bc679b2e4d4"
      },
      "source": [
        "classifier.fit(x_train, y_train)"
      ],
      "execution_count": null,
      "outputs": [
        {
          "output_type": "execute_result",
          "data": {
            "text/plain": [
              "DecisionTreeClassifier(ccp_alpha=0.0, class_weight=None, criterion='entropy',\n",
              "                       max_depth=None, max_features=None, max_leaf_nodes=None,\n",
              "                       min_impurity_decrease=0.0, min_impurity_split=None,\n",
              "                       min_samples_leaf=1, min_samples_split=2,\n",
              "                       min_weight_fraction_leaf=0.0, presort='deprecated',\n",
              "                       random_state=0, splitter='best')"
            ]
          },
          "metadata": {
            "tags": []
          },
          "execution_count": 11
        }
      ]
    },
    {
      "cell_type": "code",
      "metadata": {
        "colab": {
          "base_uri": "https://localhost:8080/"
        },
        "id": "ey-WL0uPQ43R",
        "outputId": "e9e6b7f5-9a4f-4270-88a2-946e6206b9e7"
      },
      "source": [
        "y_pred= classifier.predict(x_test)  \n",
        "y_pred"
      ],
      "execution_count": null,
      "outputs": [
        {
          "output_type": "execute_result",
          "data": {
            "text/plain": [
              "array([0, 0, 0, 0, 0, 0, 0, 1, 0, 0, 0, 0, 0, 1, 0, 1, 1, 0, 1, 0, 0, 1,\n",
              "       0, 1, 0, 0, 0, 0, 0, 0, 0, 0, 1, 0, 0, 0, 0, 0, 0, 1, 0, 0, 0, 0,\n",
              "       1, 0, 0, 1, 0, 1, 1, 0, 0, 1, 1, 1, 0, 0, 1, 0, 0, 1, 0, 1, 0, 1,\n",
              "       0, 0, 0, 1, 1, 0, 0, 1, 0, 0, 0, 0, 1, 1, 1, 1, 0, 0, 1, 0, 0, 1,\n",
              "       1, 0, 0, 1, 0, 0, 0, 1, 0, 1, 1, 1])"
            ]
          },
          "metadata": {
            "tags": []
          },
          "execution_count": 12
        }
      ]
    },
    {
      "cell_type": "code",
      "metadata": {
        "colab": {
          "base_uri": "https://localhost:8080/"
        },
        "id": "eCEshzrLQ6E1",
        "outputId": "325d761c-7dbe-40e3-ff12-7a5f5aba2bd4"
      },
      "source": [
        "accuracy=accuracy_score(y_test,y_pred)*100\n",
        "accuracy"
      ],
      "execution_count": null,
      "outputs": [
        {
          "output_type": "execute_result",
          "data": {
            "text/plain": [
              "91.0"
            ]
          },
          "metadata": {
            "tags": []
          },
          "execution_count": 13
        }
      ]
    },
    {
      "cell_type": "code",
      "metadata": {
        "colab": {
          "base_uri": "https://localhost:8080/"
        },
        "id": "8QFjtiPJQ-90",
        "outputId": "5eae8dc9-b272-43e4-862e-93876eedd693"
      },
      "source": [
        "from sklearn.metrics import confusion_matrix  \n",
        "cm= confusion_matrix(y_test, y_pred) \n",
        "cm"
      ],
      "execution_count": null,
      "outputs": [
        {
          "output_type": "execute_result",
          "data": {
            "text/plain": [
              "array([[62,  6],\n",
              "       [ 3, 29]])"
            ]
          },
          "metadata": {
            "tags": []
          },
          "execution_count": 14
        }
      ]
    },
    {
      "cell_type": "code",
      "metadata": {
        "colab": {
          "base_uri": "https://localhost:8080/",
          "height": 312
        },
        "id": "8ARdhVF7RGbP",
        "outputId": "37d8b057-924e-411a-f273-43616dbb616d"
      },
      "source": [
        "plot_confusion_matrix(classifier,x_test,y_test)\n",
        "plt.title('Confusion Matrix')"
      ],
      "execution_count": null,
      "outputs": [
        {
          "output_type": "execute_result",
          "data": {
            "text/plain": [
              "Text(0.5, 1.0, 'Confusion Matrix')"
            ]
          },
          "metadata": {
            "tags": []
          },
          "execution_count": 15
        },
        {
          "output_type": "display_data",
          "data": {
            "image/png": "[encoded data removed]",
            "text/plain": [
              "<Figure size 432x288 with 2 Axes>"
            ]
          },
          "metadata": {
            "tags": [],
            "needs_background": "light"
          }
        }
      ]
    },
    {
      "cell_type": "code",
      "metadata": {
        "colab": {
          "base_uri": "https://localhost:8080/",
          "height": 1000
        },
        "id": "noAyDQPNRMvt",
        "outputId": "737f286c-1959-4d69-9b17-51845df102fa"
      },
      "source": [
        "tree.plot_tree(classifier)"
      ],
      "execution_count": null,
      "outputs": [
        {
          "output_type": "execute_result",
          "data": {
            "text/plain": [
              "[Text(166.32692307692307, 209.07692307692307, 'X[0] <= 0.631\\nentropy = 0.951\\nsamples = 300\\nvalue = [189, 111]'),\n",
              " Text(87.99230769230769, 192.35076923076923, 'X[1] <= 0.606\\nentropy = 0.693\\nsamples = 215\\nvalue = [175, 40]'),\n",
              " Text(38.63076923076923, 175.62461538461537, 'X[0] <= -0.161\\nentropy = 0.241\\nsamples = 176\\nvalue = [169, 7]'),\n",
              " Text(30.046153846153846, 158.89846153846153, 'entropy = 0.0\\nsamples = 114\\nvalue = [114, 0]'),\n",
              " Text(47.215384615384615, 158.89846153846153, 'X[1] <= -0.06\\nentropy = 0.509\\nsamples = 62\\nvalue = [55, 7]'),\n",
              " Text(38.63076923076923, 142.1723076923077, 'entropy = 0.0\\nsamples = 31\\nvalue = [31, 0]'),\n",
              " Text(55.8, 142.1723076923077, 'X[1] <= 0.403\\nentropy = 0.771\\nsamples = 31\\nvalue = [24, 7]'),\n",
              " Text(47.215384615384615, 125.44615384615385, 'X[1] <= 0.027\\nentropy = 0.663\\nsamples = 29\\nvalue = [24, 5]'),\n",
              " Text(38.63076923076923, 108.72, 'entropy = 0.0\\nsamples = 1\\nvalue = [0, 1]'),\n",
              " Text(55.8, 108.72, 'X[1] <= 0.259\\nentropy = 0.592\\nsamples = 28\\nvalue = [24, 4]'),\n",
              " Text(47.215384615384615, 91.99384615384615, 'X[1] <= 0.085\\nentropy = 0.684\\nsamples = 22\\nvalue = [18, 4]'),\n",
              " Text(17.16923076923077, 75.2676923076923, 'X[0] <= 0.136\\nentropy = 0.391\\nsamples = 13\\nvalue = [12, 1]'),\n",
              " Text(8.584615384615384, 58.541538461538465, 'entropy = 0.0\\nsamples = 6\\nvalue = [6, 0]'),\n",
              " Text(25.753846153846155, 58.541538461538465, 'X[1] <= 0.056\\nentropy = 0.592\\nsamples = 7\\nvalue = [6, 1]'),\n",
              " Text(17.16923076923077, 41.81538461538463, 'X[0] <= 0.235\\nentropy = 1.0\\nsamples = 2\\nvalue = [1, 1]'),\n",
              " Text(8.584615384615384, 25.089230769230767, 'entropy = 0.0\\nsamples = 1\\nvalue = [0, 1]'),\n",
              " Text(25.753846153846155, 25.089230769230767, 'entropy = 0.0\\nsamples = 1\\nvalue = [1, 0]'),\n",
              " Text(34.33846153846154, 41.81538461538463, 'entropy = 0.0\\nsamples = 5\\nvalue = [5, 0]'),\n",
              " Text(77.26153846153846, 75.2676923076923, 'X[1] <= 0.114\\nentropy = 0.918\\nsamples = 9\\nvalue = [6, 3]'),\n",
              " Text(60.09230769230769, 58.541538461538465, 'X[0] <= 0.235\\nentropy = 1.0\\nsamples = 2\\nvalue = [1, 1]'),\n",
              " Text(51.50769230769231, 41.81538461538463, 'entropy = 0.0\\nsamples = 1\\nvalue = [1, 0]'),\n",
              " Text(68.67692307692307, 41.81538461538463, 'entropy = 0.0\\nsamples = 1\\nvalue = [0, 1]'),\n",
              " Text(94.43076923076923, 58.541538461538465, 'X[0] <= 0.136\\nentropy = 0.863\\nsamples = 7\\nvalue = [5, 2]'),\n",
              " Text(85.84615384615384, 41.81538461538463, 'X[0] <= -0.013\\nentropy = 1.0\\nsamples = 4\\nvalue = [2, 2]'),\n",
              " Text(77.26153846153846, 25.089230769230767, 'X[1] <= 0.201\\nentropy = 0.918\\nsamples = 3\\nvalue = [2, 1]'),\n",
              " Text(68.67692307692307, 8.363076923076932, 'entropy = 0.0\\nsamples = 2\\nvalue = [2, 0]'),\n",
              " Text(85.84615384615384, 8.363076923076932, 'entropy = 0.0\\nsamples = 1\\nvalue = [0, 1]'),\n",
              " Text(94.43076923076923, 25.089230769230767, 'entropy = 0.0\\nsamples = 1\\nvalue = [0, 1]'),\n",
              " Text(103.01538461538462, 41.81538461538463, 'entropy = 0.0\\nsamples = 3\\nvalue = [3, 0]'),\n",
              " Text(64.38461538461539, 91.99384615384615, 'entropy = 0.0\\nsamples = 6\\nvalue = [6, 0]'),\n",
              " Text(64.38461538461539, 125.44615384615385, 'entropy = 0.0\\nsamples = 2\\nvalue = [0, 2]'),\n",
              " Text(137.35384615384615, 175.62461538461537, 'X[1] <= 1.853\\nentropy = 0.619\\nsamples = 39\\nvalue = [6, 33]'),\n",
              " Text(128.76923076923077, 158.89846153846153, 'X[1] <= 1.099\\nentropy = 0.779\\nsamples = 26\\nvalue = [6, 20]'),\n",
              " Text(120.18461538461538, 142.1723076923077, 'entropy = 0.0\\nsamples = 8\\nvalue = [0, 8]'),\n",
              " Text(137.35384615384615, 142.1723076923077, 'X[1] <= 1.36\\nentropy = 0.918\\nsamples = 18\\nvalue = [6, 12]'),\n",
              " Text(111.6, 125.44615384615385, 'X[0] <= -0.458\\nentropy = 0.985\\nsamples = 7\\nvalue = [4, 3]'),\n",
              " Text(103.01538461538462, 108.72, 'entropy = 0.0\\nsamples = 2\\nvalue = [2, 0]'),\n",
              " Text(120.18461538461538, 108.72, 'X[1] <= 1.244\\nentropy = 0.971\\nsamples = 5\\nvalue = [2, 3]'),\n",
              " Text(111.6, 91.99384615384615, 'X[0] <= -0.359\\nentropy = 1.0\\nsamples = 4\\nvalue = [2, 2]'),\n",
              " Text(103.01538461538462, 75.2676923076923, 'entropy = 0.0\\nsamples = 1\\nvalue = [0, 1]'),\n",
              " Text(120.18461538461538, 75.2676923076923, 'X[0] <= 0.186\\nentropy = 0.918\\nsamples = 3\\nvalue = [2, 1]'),\n",
              " Text(111.6, 58.541538461538465, 'entropy = 0.0\\nsamples = 2\\nvalue = [2, 0]'),\n",
              " Text(128.76923076923077, 58.541538461538465, 'entropy = 0.0\\nsamples = 1\\nvalue = [0, 1]'),\n",
              " Text(128.76923076923077, 91.99384615384615, 'entropy = 0.0\\nsamples = 1\\nvalue = [0, 1]'),\n",
              " Text(163.1076923076923, 125.44615384615385, 'X[1] <= 1.781\\nentropy = 0.684\\nsamples = 11\\nvalue = [2, 9]'),\n",
              " Text(154.52307692307693, 108.72, 'X[0] <= -1.102\\nentropy = 0.469\\nsamples = 10\\nvalue = [1, 9]'),\n",
              " Text(145.93846153846152, 91.99384615384615, 'entropy = 0.0\\nsamples = 1\\nvalue = [1, 0]'),\n",
              " Text(163.1076923076923, 91.99384615384615, 'entropy = 0.0\\nsamples = 9\\nvalue = [0, 9]'),\n",
              " Text(171.69230769230768, 108.72, 'entropy = 0.0\\nsamples = 1\\nvalue = [1, 0]'),\n",
              " Text(145.93846153846152, 158.89846153846153, 'entropy = 0.0\\nsamples = 13\\nvalue = [0, 13]'),\n",
              " Text(244.66153846153844, 192.35076923076923, 'X[1] <= -0.814\\nentropy = 0.645\\nsamples = 85\\nvalue = [14, 71]'),\n",
              " Text(206.03076923076924, 175.62461538461537, 'X[1] <= -1.365\\nentropy = 0.211\\nsamples = 30\\nvalue = [1, 29]'),\n",
              " Text(197.44615384615383, 158.89846153846153, 'X[0] <= 0.829\\nentropy = 0.722\\nsamples = 5\\nvalue = [1, 4]'),\n",
              " Text(188.86153846153846, 142.1723076923077, 'X[0] <= 0.73\\nentropy = 1.0\\nsamples = 2\\nvalue = [1, 1]'),\n",
              " Text(180.27692307692308, 125.44615384615385, 'entropy = 0.0\\nsamples = 1\\nvalue = [0, 1]'),\n",
              " Text(197.44615384615383, 125.44615384615385, 'entropy = 0.0\\nsamples = 1\\nvalue = [1, 0]'),\n",
              " Text(206.03076923076924, 142.1723076923077, 'entropy = 0.0\\nsamples = 3\\nvalue = [0, 3]'),\n",
              " Text(214.6153846153846, 158.89846153846153, 'entropy = 0.0\\nsamples = 25\\nvalue = [0, 25]'),\n",
              " Text(283.2923076923077, 175.62461538461537, 'X[0] <= 1.423\\nentropy = 0.789\\nsamples = 55\\nvalue = [13, 42]'),\n",
              " Text(248.95384615384614, 158.89846153846153, 'X[1] <= 0.447\\nentropy = 0.946\\nsamples = 33\\nvalue = [12, 21]'),\n",
              " Text(223.2, 142.1723076923077, 'X[0] <= 1.027\\nentropy = 0.985\\nsamples = 14\\nvalue = [8, 6]'),\n",
              " Text(214.6153846153846, 125.44615384615385, 'X[0] <= 0.829\\nentropy = 0.994\\nsamples = 11\\nvalue = [5, 6]'),\n",
              " Text(197.44615384615383, 108.72, 'X[1] <= -0.51\\nentropy = 0.918\\nsamples = 6\\nvalue = [4, 2]'),\n",
              " Text(188.86153846153846, 91.99384615384615, 'entropy = 0.0\\nsamples = 1\\nvalue = [0, 1]'),\n",
              " Text(206.03076923076924, 91.99384615384615, 'X[1] <= 0.201\\nentropy = 0.722\\nsamples = 5\\nvalue = [4, 1]'),\n",
              " Text(197.44615384615383, 75.2676923076923, 'entropy = 0.0\\nsamples = 2\\nvalue = [2, 0]'),\n",
              " Text(214.6153846153846, 75.2676923076923, 'X[0] <= 0.73\\nentropy = 0.918\\nsamples = 3\\nvalue = [2, 1]'),\n",
              " Text(206.03076923076924, 58.541538461538465, 'entropy = 0.0\\nsamples = 1\\nvalue = [1, 0]'),\n",
              " Text(223.2, 58.541538461538465, 'X[1] <= 0.317\\nentropy = 1.0\\nsamples = 2\\nvalue = [1, 1]'),\n",
              " Text(214.6153846153846, 41.81538461538463, 'entropy = 0.0\\nsamples = 1\\nvalue = [0, 1]'),\n",
              " Text(231.78461538461536, 41.81538461538463, 'entropy = 0.0\\nsamples = 1\\nvalue = [1, 0]'),\n",
              " Text(231.78461538461536, 108.72, 'X[1] <= -0.626\\nentropy = 0.722\\nsamples = 5\\nvalue = [1, 4]'),\n",
              " Text(223.2, 91.99384615384615, 'entropy = 0.0\\nsamples = 1\\nvalue = [1, 0]'),\n",
              " Text(240.36923076923077, 91.99384615384615, 'entropy = 0.0\\nsamples = 4\\nvalue = [0, 4]'),\n",
              " Text(231.78461538461536, 125.44615384615385, 'entropy = 0.0\\nsamples = 3\\nvalue = [3, 0]'),\n",
              " Text(274.7076923076923, 142.1723076923077, 'X[1] <= 0.664\\nentropy = 0.742\\nsamples = 19\\nvalue = [4, 15]'),\n",
              " Text(266.1230769230769, 125.44615384615385, 'entropy = 0.0\\nsamples = 4\\nvalue = [0, 4]'),\n",
              " Text(283.2923076923077, 125.44615384615385, 'X[1] <= 1.331\\nentropy = 0.837\\nsamples = 15\\nvalue = [4, 11]'),\n",
              " Text(266.1230769230769, 108.72, 'X[0] <= 0.829\\nentropy = 1.0\\nsamples = 4\\nvalue = [2, 2]'),\n",
              " Text(257.53846153846155, 91.99384615384615, 'entropy = 0.0\\nsamples = 1\\nvalue = [1, 0]'),\n",
              " Text(274.7076923076923, 91.99384615384615, 'X[0] <= 1.176\\nentropy = 0.918\\nsamples = 3\\nvalue = [1, 2]'),\n",
              " Text(266.1230769230769, 75.2676923076923, 'entropy = 0.0\\nsamples = 2\\nvalue = [0, 2]'),\n",
              " Text(283.2923076923077, 75.2676923076923, 'entropy = 0.0\\nsamples = 1\\nvalue = [1, 0]'),\n",
              " Text(300.46153846153845, 108.72, 'X[1] <= 1.824\\nentropy = 0.684\\nsamples = 11\\nvalue = [2, 9]'),\n",
              " Text(291.87692307692305, 91.99384615384615, 'entropy = 0.0\\nsamples = 4\\nvalue = [0, 4]'),\n",
              " Text(309.04615384615386, 91.99384615384615, 'X[1] <= 2.143\\nentropy = 0.863\\nsamples = 7\\nvalue = [2, 5]'),\n",
              " Text(300.46153846153845, 75.2676923076923, 'X[1] <= 2.027\\nentropy = 0.971\\nsamples = 5\\nvalue = [2, 3]'),\n",
              " Text(291.87692307692305, 58.541538461538465, 'X[1] <= 1.926\\nentropy = 0.811\\nsamples = 4\\nvalue = [1, 3]'),\n",
              " Text(283.2923076923077, 41.81538461538463, 'X[0] <= 1.126\\nentropy = 1.0\\nsamples = 2\\nvalue = [1, 1]'),\n",
              " Text(274.7076923076923, 25.089230769230767, 'entropy = 0.0\\nsamples = 1\\nvalue = [0, 1]'),\n",
              " Text(291.87692307692305, 25.089230769230767, 'entropy = 0.0\\nsamples = 1\\nvalue = [1, 0]'),\n",
              " Text(300.46153846153845, 41.81538461538463, 'entropy = 0.0\\nsamples = 2\\nvalue = [0, 2]'),\n",
              " Text(309.04615384615386, 58.541538461538465, 'entropy = 0.0\\nsamples = 1\\nvalue = [1, 0]'),\n",
              " Text(317.6307692307692, 75.2676923076923, 'entropy = 0.0\\nsamples = 2\\nvalue = [0, 2]'),\n",
              " Text(317.6307692307692, 158.89846153846153, 'X[1] <= -0.742\\nentropy = 0.267\\nsamples = 22\\nvalue = [1, 21]'),\n",
              " Text(309.04615384615386, 142.1723076923077, 'X[0] <= 2.117\\nentropy = 1.0\\nsamples = 2\\nvalue = [1, 1]'),\n",
              " Text(300.46153846153845, 125.44615384615385, 'entropy = 0.0\\nsamples = 1\\nvalue = [1, 0]'),\n",
              " Text(317.6307692307692, 125.44615384615385, 'entropy = 0.0\\nsamples = 1\\nvalue = [0, 1]'),\n",
              " Text(326.2153846153846, 142.1723076923077, 'entropy = 0.0\\nsamples = 20\\nvalue = [0, 20]')]"
            ]
          },
          "metadata": {
            "tags": []
          },
          "execution_count": 16
        },
        {
          "output_type": "display_data",
          "data": {
            "image/png": "[encoded data removed]",
            "text/plain": [
              "<Figure size 432x288 with 1 Axes>"
            ]
          },
          "metadata": {
            "tags": [],
            "needs_background": "light"
          }
        }
      ]
    },
    {
      "cell_type": "code",
      "metadata": {
        "colab": {
          "base_uri": "https://localhost:8080/"
        },
        "id": "7YfguNPvpICX",
        "outputId": "c0b958f9-1fd5-469e-fa5a-f2313381970b"
      },
      "source": [
        "print(classifier.tree_.max_depth)"
      ],
      "execution_count": null,
      "outputs": [
        {
          "output_type": "stream",
          "text": [
            "12\n"
          ],
          "name": "stdout"
        }
      ]
    },
    {
      "cell_type": "markdown",
      "metadata": {
        "id": "8hjz9tD24fEs"
      },
      "source": [
        "# **Exercise:7**"
      ]
    },
    {
      "cell_type": "markdown",
      "metadata": {
        "id": "0pkY6Rc44irc"
      },
      "source": [
        "**Calculating with matrices using numpy : inv, pinv, matrix_rank, solve, lstsq, svd, transpose, eig, sort, linspace, meshgrid, mgrid, ogrid, concatenate, tile, squeeze, integrate**"
      ]
    },
    {
      "cell_type": "code",
      "metadata": {
        "id": "R0BmqrLY4vTT"
      },
      "source": [
        "import numpy as np"
      ],
      "execution_count": null,
      "outputs": []
    },
    {
      "cell_type": "markdown",
      "metadata": {
        "id": "FkJbgsp6rMUW"
      },
      "source": [
        "INV() and PINV()"
      ]
    },
    {
      "cell_type": "code",
      "metadata": {
        "colab": {
          "base_uri": "https://localhost:8080/"
        },
        "id": "tjc3PzL1qr5W",
        "outputId": "0d70c54a-a8da-4747-a84a-7563771a2e26"
      },
      "source": [
        "from numpy import linalg\n",
        "matrix = np.array([\n",
        "                [10,20,30,40],\n",
        "                [34,54,36,90],\n",
        "                [48,83,94,23],\n",
        "                [23,45,36,89]\n",
        "])\n",
        "\n",
        "print(\"Inverse of matrix:\\n\")\n",
        "print(linalg.inv(matrix))\n",
        "print(\"\\n\\n\")\n",
        "print(\"Pseudo Inverse of matrix:\\n\")\n",
        "print(linalg.pinv(matrix))"
      ],
      "execution_count": null,
      "outputs": [
        {
          "output_type": "stream",
          "text": [
            "Inverse of matrix:\n",
            "\n",
            "[[ 1.33295973e-01  1.79088944e-01 -2.08950444e-02 -2.35609639e-01]\n",
            " [-1.65086863e-01 -1.08618205e-01  2.64190217e-02  1.77207589e-01]\n",
            " [ 7.29245056e-02  2.60187335e-03 -8.00576415e-05 -3.53854775e-02]\n",
            " [ 1.95260588e-02  7.58546153e-03 -7.92570651e-03 -3.16227684e-03]]\n",
            "\n",
            "\n",
            "\n",
            "Pseudo Inverse of matrix:\n",
            "\n",
            "[[ 1.33295973e-01  1.79088944e-01 -2.08950444e-02 -2.35609639e-01]\n",
            " [-1.65086863e-01 -1.08618205e-01  2.64190217e-02  1.77207589e-01]\n",
            " [ 7.29245056e-02  2.60187335e-03 -8.00576415e-05 -3.53854775e-02]\n",
            " [ 1.95260588e-02  7.58546153e-03 -7.92570651e-03 -3.16227684e-03]]\n"
          ],
          "name": "stdout"
        }
      ]
    },
    {
      "cell_type": "markdown",
      "metadata": {
        "id": "TVstPSArrYvB"
      },
      "source": [
        "MATRIX_RANK()"
      ]
    },
    {
      "cell_type": "code",
      "metadata": {
        "colab": {
          "base_uri": "https://localhost:8080/"
        },
        "id": "a7rE7SMJrgd9",
        "outputId": "beeaeb4c-492b-494a-9b85-b013e1ed1864"
      },
      "source": [
        "matrix = np.eye(5)\n",
        "print(matrix)\n",
        "\n",
        "print(\"Rank of matrix: \",linalg.matrix_rank(matrix))"
      ],
      "execution_count": null,
      "outputs": [
        {
          "output_type": "stream",
          "text": [
            "[[1. 0. 0. 0. 0.]\n",
            " [0. 1. 0. 0. 0.]\n",
            " [0. 0. 1. 0. 0.]\n",
            " [0. 0. 0. 1. 0.]\n",
            " [0. 0. 0. 0. 1.]]\n",
            "Rank of matrix:  5\n"
          ],
          "name": "stdout"
        }
      ]
    },
    {
      "cell_type": "markdown",
      "metadata": {
        "id": "Y8Qss38ar0DS"
      },
      "source": [
        "SOLVE()"
      ]
    },
    {
      "cell_type": "markdown",
      "metadata": {
        "id": "4hGINNg4sMex"
      },
      "source": [
        "Solving Linear equations:\n",
        "\n",
        "4x-8y=2\n",
        "\n",
        "6x+5y=-1"
      ]
    },
    {
      "cell_type": "code",
      "metadata": {
        "colab": {
          "base_uri": "https://localhost:8080/"
        },
        "id": "F5BDl-QUr2jH",
        "outputId": "f2b3111c-f794-4960-9953-6953219a5058"
      },
      "source": [
        "coeff_matrix = np.array([\n",
        "                         [4, -8],\n",
        "                         [6, 5]\n",
        "])\n",
        "\n",
        "const_matrix = np.array([2, -1])\n",
        "\n",
        "solution = linalg.solve(coeff_matrix, const_matrix)\n",
        "\n",
        "print(solution)"
      ],
      "execution_count": null,
      "outputs": [
        {
          "output_type": "stream",
          "text": [
            "[ 0.02941176 -0.23529412]\n"
          ],
          "name": "stdout"
        }
      ]
    },
    {
      "cell_type": "markdown",
      "metadata": {
        "id": "tpD0HLtpsk-H"
      },
      "source": [
        "ISTSQ()"
      ]
    },
    {
      "cell_type": "code",
      "metadata": {
        "colab": {
          "base_uri": "https://localhost:8080/"
        },
        "id": "qVKyZGUisnRk",
        "outputId": "327af583-8b32-4dac-db04-7d0beff26984"
      },
      "source": [
        "coeff_matrix = np.array([\n",
        "                         [5, -8],\n",
        "                         [4, 5]\n",
        "])\n",
        "\n",
        "const_matrix = np.array([1, -6])\n",
        "\n",
        "linalg.lstsq(coeff_matrix, const_matrix)"
      ],
      "execution_count": null,
      "outputs": [
        {
          "output_type": "stream",
          "text": [
            "/usr/local/lib/python3.7/dist-packages/ipykernel_launcher.py:8: FutureWarning: `rcond` parameter will change to the default of machine precision times ``max(M, N)`` where M and N are the input matrix dimensions.\n",
            "To use the future default and silence this warning we advise to pass `rcond=None`, to keep using the old, explicitly pass `rcond=-1`.\n",
            "  \n"
          ],
          "name": "stderr"
        },
        {
          "output_type": "execute_result",
          "data": {
            "text/plain": [
              "(array([-0.75438596, -0.59649123]),\n",
              " array([], dtype=float64),\n",
              " 2,\n",
              " array([9.81024968, 5.81024968]))"
            ]
          },
          "metadata": {
            "tags": []
          },
          "execution_count": 36
        }
      ]
    },
    {
      "cell_type": "code",
      "metadata": {
        "colab": {
          "base_uri": "https://localhost:8080/"
        },
        "id": "dRyE5x6Zs0JP",
        "outputId": "0e161b5c-0a25-45b2-f9c4-cda66e711ae8"
      },
      "source": [
        "X = np.array([\n",
        "              [10,20,30,40],\n",
        "              [23,45,89,90],\n",
        "              [2,5,4,9],\n",
        "              [9,8,0,1]\n",
        "])\n",
        "\n",
        "u, s, v = linalg.svd(X)\n",
        "\n",
        "print(\"Matirx:\")\n",
        "print(X)\n",
        "print(\"\\n\")\n",
        "print(\"U:\")\n",
        "print(u)\n",
        "print(\"\\n\")\n",
        "print(\"Sigma:\")\n",
        "print(s)\n",
        "print(\"\\n\")\n",
        "print(\"V*\")\n",
        "print(v)\n",
        "\n",
        "print(\"\\nOriginal Matrix\")\n",
        "print((u@np.diag(s))@v)\n",
        "\n"
      ],
      "execution_count": null,
      "outputs": [
        {
          "output_type": "stream",
          "text": [
            "Matirx:\n",
            "[[10 20 30 40]\n",
            " [23 45 89 90]\n",
            " [ 2  5  4  9]\n",
            " [ 9  8  0  1]]\n",
            "\n",
            "\n",
            "U:\n",
            "[[-0.36980609  0.27872639 -0.75618115 -0.46232577]\n",
            " [-0.92569789 -0.15882766  0.32292537  0.11651779]\n",
            " [-0.07215797  0.17759612 -0.43664915  0.8789712 ]\n",
            " [-0.03346788  0.93034671  0.36502985 -0.00938707]]\n",
            "\n",
            "\n",
            "Sigma:\n",
            "[147.19709745  11.55464586   6.80590319   0.42935323]\n",
            "\n",
            "\n",
            "V*\n",
            "[[-0.17279308 -0.33751385 -0.63703652 -0.67112698]\n",
            " [ 0.68046572  0.58487621 -0.43822073 -0.05337436]\n",
            " [ 0.33462749  0.02130674  0.63302793 -0.69774358]\n",
            " [-0.62859638  0.7372586   0.03771874 -0.24473179]]\n",
            "\n",
            "Original Matrix\n",
            "[[ 1.00000000e+01  2.00000000e+01  3.00000000e+01  4.00000000e+01]\n",
            " [ 2.30000000e+01  4.50000000e+01  8.90000000e+01  9.00000000e+01]\n",
            " [ 2.00000000e+00  5.00000000e+00  4.00000000e+00  9.00000000e+00]\n",
            " [ 9.00000000e+00  8.00000000e+00 -2.14477821e-15  1.00000000e+00]]\n"
          ],
          "name": "stdout"
        }
      ]
    },
    {
      "cell_type": "markdown",
      "metadata": {
        "id": "zwklhAaVsrY1"
      },
      "source": [
        "TRANSPOSE()"
      ]
    },
    {
      "cell_type": "code",
      "metadata": {
        "colab": {
          "base_uri": "https://localhost:8080/"
        },
        "id": "QafDJNYttE1_",
        "outputId": "852f82e6-9761-42f6-e814-a0b2868723d5"
      },
      "source": [
        "matrix = np.random.randint(100,200,24).reshape(3,8)\n",
        "print(\"Matrix:\")\n",
        "print(matrix)\n",
        "print(\"\\n\\n\")\n",
        "print(\"Transpose of Matrix:\")\n",
        "print(matrix.transpose())"
      ],
      "execution_count": null,
      "outputs": [
        {
          "output_type": "stream",
          "text": [
            "Matrix:\n",
            "[[112 178 136 101 196 168 157 159]\n",
            " [117 128 105 105 134 192 156 133]\n",
            " [142 115 132 159 160 184 149 120]]\n",
            "\n",
            "\n",
            "\n",
            "Transpose of Matrix:\n",
            "[[112 117 142]\n",
            " [178 128 115]\n",
            " [136 105 132]\n",
            " [101 105 159]\n",
            " [196 134 160]\n",
            " [168 192 184]\n",
            " [157 156 149]\n",
            " [159 133 120]]\n"
          ],
          "name": "stdout"
        }
      ]
    },
    {
      "cell_type": "markdown",
      "metadata": {
        "id": "DpN0tcm-tShO"
      },
      "source": [
        "EIG()"
      ]
    },
    {
      "cell_type": "code",
      "metadata": {
        "colab": {
          "base_uri": "https://localhost:8080/"
        },
        "id": "YL6JDYdPtUSR",
        "outputId": "3560402a-d5f3-4334-c4fc-a5737fd55686"
      },
      "source": [
        "matrix = np.array([\n",
        "                   [23,0,0,0],\n",
        "                   [0,90,0,0],\n",
        "                   [0,0,87,0],\n",
        "                   [0,0,0,76]\n",
        "])\n",
        "\n",
        "print(\"Matrix: \")\n",
        "print(matrix)\n",
        "\n",
        "evl, evc = linalg.eig(matrix)\n",
        "\n",
        "print(\"\\nEigen values:\")\n",
        "print(evl)\n",
        "\n",
        "print(\"\\nEigen vectors:\")\n",
        "print(evc)"
      ],
      "execution_count": null,
      "outputs": [
        {
          "output_type": "stream",
          "text": [
            "Matrix: \n",
            "[[23  0  0  0]\n",
            " [ 0 90  0  0]\n",
            " [ 0  0 87  0]\n",
            " [ 0  0  0 76]]\n",
            "\n",
            "Eigen values:\n",
            "[23. 90. 87. 76.]\n",
            "\n",
            "Eigen vectors:\n",
            "[[1. 0. 0. 0.]\n",
            " [0. 1. 0. 0.]\n",
            " [0. 0. 1. 0.]\n",
            " [0. 0. 0. 1.]]\n"
          ],
          "name": "stdout"
        }
      ]
    },
    {
      "cell_type": "markdown",
      "metadata": {
        "id": "pgk2ZQ8utbDo"
      },
      "source": [
        "SORT()"
      ]
    },
    {
      "cell_type": "code",
      "metadata": {
        "colab": {
          "base_uri": "https://localhost:8080/"
        },
        "id": "e2hgrMfCtfGG",
        "outputId": "de9f74fe-4c76-4da2-c2f3-2b886cbcb993"
      },
      "source": [
        "matrix = np.random.randint(100,140,24).reshape(6,4)\n",
        "print(matrix)\n",
        "\n",
        "print(\"\\n\\nsorted:\")\n",
        "print(np.sort(matrix, axis=None))\n",
        "\n",
        "print(\"\\n\\nsorted row wise:\")\n",
        "print(np.sort(matrix, axis=0))\n",
        "\n",
        "print(\"\\n\\nsorted column wise:\")\n",
        "print(np.sort(matrix, axis=1))"
      ],
      "execution_count": null,
      "outputs": [
        {
          "output_type": "stream",
          "text": [
            "[[110 103 112 109]\n",
            " [121 104 125 126]\n",
            " [128 113 117 134]\n",
            " [110 108 117 103]\n",
            " [113 110 119 127]\n",
            " [118 110 104 102]]\n",
            "\n",
            "\n",
            "sorted:\n",
            "[102 103 103 104 104 108 109 110 110 110 110 112 113 113 117 117 118 119\n",
            " 121 125 126 127 128 134]\n",
            "\n",
            "\n",
            "sorted row wise:\n",
            "[[110 103 104 102]\n",
            " [110 104 112 103]\n",
            " [113 108 117 109]\n",
            " [118 110 117 126]\n",
            " [121 110 119 127]\n",
            " [128 113 125 134]]\n",
            "\n",
            "\n",
            "sorted column wise:\n",
            "[[103 109 110 112]\n",
            " [104 121 125 126]\n",
            " [113 117 128 134]\n",
            " [103 108 110 117]\n",
            " [110 113 119 127]\n",
            " [102 104 110 118]]\n"
          ],
          "name": "stdout"
        }
      ]
    },
    {
      "cell_type": "markdown",
      "metadata": {
        "id": "OgjXzP3StpPI"
      },
      "source": [
        "LINESPACE()"
      ]
    },
    {
      "cell_type": "code",
      "metadata": {
        "colab": {
          "base_uri": "https://localhost:8080/"
        },
        "id": "TaCfSzqBtt08",
        "outputId": "2dd8ea09-e80b-4b27-d177-a569576c390e"
      },
      "source": [
        "a = np.linspace(0,100,num=10)\n",
        "print(a)"
      ],
      "execution_count": null,
      "outputs": [
        {
          "output_type": "stream",
          "text": [
            "[  0.          11.11111111  22.22222222  33.33333333  44.44444444\n",
            "  55.55555556  66.66666667  77.77777778  88.88888889 100.        ]\n"
          ],
          "name": "stdout"
        }
      ]
    },
    {
      "cell_type": "markdown",
      "metadata": {
        "id": "7HgnzlbjtyI5"
      },
      "source": [
        "MESHGRID()"
      ]
    },
    {
      "cell_type": "code",
      "metadata": {
        "colab": {
          "base_uri": "https://localhost:8080/"
        },
        "id": "mh7qEZmNt2kT",
        "outputId": "07b84b5b-0d05-4af7-bf92-5dc3652c7d8a"
      },
      "source": [
        "a = np.linspace(1, 5, 5)\n",
        "b = np.linspace(1,8,8)\n",
        "\n",
        "x,y = np.meshgrid(a,b)\n",
        "\n",
        "print(x)\n",
        "print(y)"
      ],
      "execution_count": null,
      "outputs": [
        {
          "output_type": "stream",
          "text": [
            "[[1. 2. 3. 4. 5.]\n",
            " [1. 2. 3. 4. 5.]\n",
            " [1. 2. 3. 4. 5.]\n",
            " [1. 2. 3. 4. 5.]\n",
            " [1. 2. 3. 4. 5.]\n",
            " [1. 2. 3. 4. 5.]\n",
            " [1. 2. 3. 4. 5.]\n",
            " [1. 2. 3. 4. 5.]]\n",
            "[[1. 1. 1. 1. 1.]\n",
            " [2. 2. 2. 2. 2.]\n",
            " [3. 3. 3. 3. 3.]\n",
            " [4. 4. 4. 4. 4.]\n",
            " [5. 5. 5. 5. 5.]\n",
            " [6. 6. 6. 6. 6.]\n",
            " [7. 7. 7. 7. 7.]\n",
            " [8. 8. 8. 8. 8.]]\n"
          ],
          "name": "stdout"
        }
      ]
    },
    {
      "cell_type": "markdown",
      "metadata": {
        "id": "n4uwEEo2t7cM"
      },
      "source": [
        "MGRID()"
      ]
    },
    {
      "cell_type": "code",
      "metadata": {
        "colab": {
          "base_uri": "https://localhost:8080/"
        },
        "id": "wd2LmmVNuA3V",
        "outputId": "215e7a90-5032-4338-e346-aa7b885a89b8"
      },
      "source": [
        "a = np.mgrid[1:10,5:20]\n",
        "print(a)"
      ],
      "execution_count": null,
      "outputs": [
        {
          "output_type": "stream",
          "text": [
            "[[[ 1  1  1  1  1  1  1  1  1  1  1  1  1  1  1]\n",
            "  [ 2  2  2  2  2  2  2  2  2  2  2  2  2  2  2]\n",
            "  [ 3  3  3  3  3  3  3  3  3  3  3  3  3  3  3]\n",
            "  [ 4  4  4  4  4  4  4  4  4  4  4  4  4  4  4]\n",
            "  [ 5  5  5  5  5  5  5  5  5  5  5  5  5  5  5]\n",
            "  [ 6  6  6  6  6  6  6  6  6  6  6  6  6  6  6]\n",
            "  [ 7  7  7  7  7  7  7  7  7  7  7  7  7  7  7]\n",
            "  [ 8  8  8  8  8  8  8  8  8  8  8  8  8  8  8]\n",
            "  [ 9  9  9  9  9  9  9  9  9  9  9  9  9  9  9]]\n",
            "\n",
            " [[ 5  6  7  8  9 10 11 12 13 14 15 16 17 18 19]\n",
            "  [ 5  6  7  8  9 10 11 12 13 14 15 16 17 18 19]\n",
            "  [ 5  6  7  8  9 10 11 12 13 14 15 16 17 18 19]\n",
            "  [ 5  6  7  8  9 10 11 12 13 14 15 16 17 18 19]\n",
            "  [ 5  6  7  8  9 10 11 12 13 14 15 16 17 18 19]\n",
            "  [ 5  6  7  8  9 10 11 12 13 14 15 16 17 18 19]\n",
            "  [ 5  6  7  8  9 10 11 12 13 14 15 16 17 18 19]\n",
            "  [ 5  6  7  8  9 10 11 12 13 14 15 16 17 18 19]\n",
            "  [ 5  6  7  8  9 10 11 12 13 14 15 16 17 18 19]]]\n"
          ],
          "name": "stdout"
        }
      ]
    },
    {
      "cell_type": "markdown",
      "metadata": {
        "id": "q_9h_qZRuGmy"
      },
      "source": [
        "OGRID()"
      ]
    },
    {
      "cell_type": "code",
      "metadata": {
        "colab": {
          "base_uri": "https://localhost:8080/"
        },
        "id": "c4zinldkuNfk",
        "outputId": "1bdfae1f-cb27-4d35-884c-49e13dae559c"
      },
      "source": [
        "a = np.ogrid[1:10,5:20]\n",
        "print(a)"
      ],
      "execution_count": null,
      "outputs": [
        {
          "output_type": "stream",
          "text": [
            "[array([[1],\n",
            "       [2],\n",
            "       [3],\n",
            "       [4],\n",
            "       [5],\n",
            "       [6],\n",
            "       [7],\n",
            "       [8],\n",
            "       [9]]), array([[ 5,  6,  7,  8,  9, 10, 11, 12, 13, 14, 15, 16, 17, 18, 19]])]\n"
          ],
          "name": "stdout"
        }
      ]
    },
    {
      "cell_type": "markdown",
      "metadata": {
        "id": "YxUEp4x-uRIH"
      },
      "source": [
        "CONCATENATE()"
      ]
    },
    {
      "cell_type": "code",
      "metadata": {
        "colab": {
          "base_uri": "https://localhost:8080/"
        },
        "id": "rOjYjprluWbX",
        "outputId": "24ce45f5-3d0e-49a6-e23f-11a22b63dc54"
      },
      "source": [
        "a = np.array([\n",
        "              [10,20,30],\n",
        "              [40,50,60],\n",
        "              [70,80,90]\n",
        "])\n",
        "\n",
        "b = np.array([\n",
        "              [2,3,4],\n",
        "              [500,69,94],\n",
        "              [45,25,65]\n",
        "])\n",
        "x = np.concatenate((a,b), axis=0)\n",
        "print(x)\n",
        "\n",
        "print(\"\\n\\n\")\n",
        "x = np.concatenate((a,b), axis=1)\n",
        "print(x)"
      ],
      "execution_count": null,
      "outputs": [
        {
          "output_type": "stream",
          "text": [
            "[[ 10  20  30]\n",
            " [ 40  50  60]\n",
            " [ 70  80  90]\n",
            " [  2   3   4]\n",
            " [500  69  94]\n",
            " [ 45  25  65]]\n",
            "\n",
            "\n",
            "\n",
            "[[ 10  20  30   2   3   4]\n",
            " [ 40  50  60 500  69  94]\n",
            " [ 70  80  90  45  25  65]]\n"
          ],
          "name": "stdout"
        }
      ]
    },
    {
      "cell_type": "markdown",
      "metadata": {
        "id": "o-vlQrgVupzJ"
      },
      "source": [
        "TILE()"
      ]
    },
    {
      "cell_type": "code",
      "metadata": {
        "colab": {
          "base_uri": "https://localhost:8080/"
        },
        "id": "3ZCceNynuv5D",
        "outputId": "cf1975bd-6aa1-4c51-9fbc-2f1d3a63819c"
      },
      "source": [
        "a = np.array([\n",
        "              [10,20],\n",
        "              [30,40]\n",
        "])\n",
        "\n",
        "print(np.tile(a,3))\n",
        "print(\"\\n\\n\")\n",
        "print(np.tile(a,(3,3)))"
      ],
      "execution_count": null,
      "outputs": [
        {
          "output_type": "stream",
          "text": [
            "[[10 20 10 20 10 20]\n",
            " [30 40 30 40 30 40]]\n",
            "\n",
            "\n",
            "\n",
            "[[10 20 10 20 10 20]\n",
            " [30 40 30 40 30 40]\n",
            " [10 20 10 20 10 20]\n",
            " [30 40 30 40 30 40]\n",
            " [10 20 10 20 10 20]\n",
            " [30 40 30 40 30 40]]\n"
          ],
          "name": "stdout"
        }
      ]
    },
    {
      "cell_type": "markdown",
      "metadata": {
        "id": "zaO29nZ0u7L9"
      },
      "source": [
        "SQUEEZE()"
      ]
    },
    {
      "cell_type": "code",
      "metadata": {
        "colab": {
          "base_uri": "https://localhost:8080/"
        },
        "id": "nZQhjXBZvAlV",
        "outputId": "965b83da-b656-4d1f-bf9c-1bd29a4b2bae"
      },
      "source": [
        "a = np.array([\n",
        "              [4],\n",
        "              [5],\n",
        "              [6]\n",
        "])\n",
        "\n",
        "print(np.squeeze(a))"
      ],
      "execution_count": null,
      "outputs": [
        {
          "output_type": "stream",
          "text": [
            "[4 5 6]\n"
          ],
          "name": "stdout"
        }
      ]
    },
    {
      "cell_type": "markdown",
      "metadata": {
        "id": "XuwgfOTRvMmp"
      },
      "source": [
        "INTEGRATE()"
      ]
    },
    {
      "cell_type": "code",
      "metadata": {
        "colab": {
          "base_uri": "https://localhost:8080/"
        },
        "id": "Lv54iH3SvOxj",
        "outputId": "a9dc04f3-643d-469a-9cc0-84cc0cc44f32"
      },
      "source": [
        "from scipy import integrate\n",
        "def integrand(x, a, b):\n",
        "  return a*x**3 + b*x**2\n",
        "\n",
        "result = integrate.quad(integrand, 0, 2, args=(3,9))\n",
        "\n",
        "print(result)"
      ],
      "execution_count": null,
      "outputs": [
        {
          "output_type": "stream",
          "text": [
            "(36.0, 3.9968028886505635e-13)\n"
          ],
          "name": "stdout"
        }
      ]
    },
    {
      "cell_type": "markdown",
      "metadata": {
        "id": "cg34jcdA4v_a"
      },
      "source": [
        "# **Exercise:8**"
      ]
    },
    {
      "cell_type": "markdown",
      "metadata": {
        "id": "fVcfaCcu40Bw"
      },
      "source": [
        "**a)Program using pandas**"
      ]
    },
    {
      "cell_type": "code",
      "metadata": {
        "colab": {
          "base_uri": "https://localhost:8080/"
        },
        "id": "MKTVvtWQ4_-r",
        "outputId": "a9350386-2106-4d7d-e864-c49e0a82b306"
      },
      "source": [
        "#Series\n",
        "print(\"CREATING SERIES\")\n",
        "import pandas as pd\n",
        "import numpy as np\n",
        "t=pd.Series([1,3,5,6,8])#in series indexing will be there\n",
        "s=pd.Series([1,3,5,6,8],index=(10,11,12,13,14))#we can mention inex of our wish also\n",
        "print(t)\n",
        "print(s)\n",
        "print(s[:3])\n",
        "print(s[:-3])\n",
        "print(s[-3:])\n",
        "print(\".............\")\n",
        "#coverting numpy array to series \n",
        "data=np.array(['a','b','c','d'])\n",
        "s=pd.Series(data)\n",
        "t=pd.Series(data,index=[100,101,102,103])\n",
        "print(s)\n",
        "print(t)\n",
        "print(\".............\")\n",
        "#converting dictionary to series\n",
        "data={'a':0.,'b':1.,'c':2.}\n",
        "s=pd.Series(data,dtype=int)\n",
        "t=pd.Series(data,index=[100,101,102,103])\n",
        "print(s)\n",
        "print(t)\n",
        "print(\"__________\")\n",
        "#Dataframe\n",
        "print(\"CREATING DATAFRAME\")\n",
        "data=[['priya',18],['sony',16],['shshi',17]]\n",
        "print(data)\n",
        "print('......')\n",
        "x=pd.DataFrame(data)#normal dataframe\n",
        "print(x)\n",
        "print('.......')\n",
        "x=pd.DataFrame(data,index=['row1','row2','row3'])#dataframe with index changes\n",
        "print(x)\n",
        "print('......')\n",
        "x=pd.DataFrame(data,columns=['Name','Age'])#dataframe with col names changed\n",
        "print(x)\n",
        "print('......')\n",
        "x=pd.DataFrame(data,index=['row1','row2','row3'],columns=['Name','Age'])#dataframe with both index and col changes\n",
        "print(x)\n",
        "print('......')\n",
        "print(x.shape)#shape\n",
        "print('.......')\n",
        "print(x.T)#transpose of matrix\n",
        "print('.......')\n",
        "print(x.dtypes)\n",
        "print(\"__________\")\n",
        "#Adding a new column using pandas\n",
        "d = {'one' : pd.Series([1, 2, 3], index=['a', 'b', 'c']),\n",
        "   'two' : pd.Series([1, 2, 3, 4], index=['a', 'b', 'c', 'd'])}\n",
        "df = pd.DataFrame(d)\n",
        "print(df)\n",
        "print('...........')\n",
        "print (\"Adding a new column by passing as Series:\")\n",
        "df['three']=pd.Series([10,20,30],index=['a','b','c'])\n",
        "df['four'] = pd.Series([100, 200, 300])\n",
        "print(df)\n",
        "print('.....')\n",
        "print (\"Adding a new column using the existing columns in DataFrame:\")\n",
        "df['five']=df['one']*df['three']\n",
        "print(df)"
      ],
      "execution_count": null,
      "outputs": [
        {
          "output_type": "stream",
          "text": [
            "CREATING SERIES\n",
            "0    1\n",
            "1    3\n",
            "2    5\n",
            "3    6\n",
            "4    8\n",
            "dtype: int64\n",
            "10    1\n",
            "11    3\n",
            "12    5\n",
            "13    6\n",
            "14    8\n",
            "dtype: int64\n",
            "10    1\n",
            "11    3\n",
            "12    5\n",
            "dtype: int64\n",
            "10    1\n",
            "11    3\n",
            "dtype: int64\n",
            "12    5\n",
            "13    6\n",
            "14    8\n",
            "dtype: int64\n",
            ".............\n",
            "0    a\n",
            "1    b\n",
            "2    c\n",
            "3    d\n",
            "dtype: object\n",
            "100    a\n",
            "101    b\n",
            "102    c\n",
            "103    d\n",
            "dtype: object\n",
            ".............\n",
            "a    0\n",
            "b    1\n",
            "c    2\n",
            "dtype: int64\n",
            "100   NaN\n",
            "101   NaN\n",
            "102   NaN\n",
            "103   NaN\n",
            "dtype: float64\n",
            "__________\n",
            "CREATING DATAFRAME\n",
            "[['priya', 18], ['sony', 16], ['shshi', 17]]\n",
            "......\n",
            "       0   1\n",
            "0  priya  18\n",
            "1   sony  16\n",
            "2  shshi  17\n",
            ".......\n",
            "          0   1\n",
            "row1  priya  18\n",
            "row2   sony  16\n",
            "row3  shshi  17\n",
            "......\n",
            "    Name  Age\n",
            "0  priya   18\n",
            "1   sony   16\n",
            "2  shshi   17\n",
            "......\n",
            "       Name  Age\n",
            "row1  priya   18\n",
            "row2   sony   16\n",
            "row3  shshi   17\n",
            "......\n",
            "(3, 2)\n",
            ".......\n",
            "       row1  row2   row3\n",
            "Name  priya  sony  shshi\n",
            "Age      18    16     17\n",
            ".......\n",
            "Name    object\n",
            "Age      int64\n",
            "dtype: object\n",
            "__________\n",
            "   one  two\n",
            "a  1.0    1\n",
            "b  2.0    2\n",
            "c  3.0    3\n",
            "d  NaN    4\n",
            "...........\n",
            "Adding a new column by passing as Series:\n",
            "   one  two  three  four\n",
            "a  1.0    1   10.0   NaN\n",
            "b  2.0    2   20.0   NaN\n",
            "c  3.0    3   30.0   NaN\n",
            "d  NaN    4    NaN   NaN\n",
            ".....\n",
            "Adding a new column using the existing columns in DataFrame:\n",
            "   one  two  three  four  five\n",
            "a  1.0    1   10.0   NaN  10.0\n",
            "b  2.0    2   20.0   NaN  40.0\n",
            "c  3.0    3   30.0   NaN  90.0\n",
            "d  NaN    4    NaN   NaN   NaN\n"
          ],
          "name": "stdout"
        }
      ]
    },
    {
      "cell_type": "markdown",
      "metadata": {
        "id": "7k4b0YR87RQO"
      },
      "source": [
        "**b)Program using matplotlib-use minimum 5 techniques**"
      ]
    },
    {
      "cell_type": "markdown",
      "metadata": {
        "id": "AwvdpN6X7y_a"
      },
      "source": [
        "1.LINE PLOT"
      ]
    },
    {
      "cell_type": "code",
      "metadata": {
        "colab": {
          "base_uri": "https://localhost:8080/",
          "height": 265
        },
        "id": "J0YxOGBd71jY",
        "outputId": "53d9292d-eacb-4207-84be-1191f2208bb7"
      },
      "source": [
        "import matplotlib.pyplot as plt\n",
        "\n",
        "x= [1,2,3,4]\n",
        "plt.plot(x)\n",
        "\n",
        "plt.ylabel('some numbers')\n",
        "plt.show()"
      ],
      "execution_count": null,
      "outputs": [
        {
          "output_type": "display_data",
          "data": {
            "image/png": "[encoded data removed]",
            "text/plain": [
              "<Figure size 432x288 with 1 Axes>"
            ]
          },
          "metadata": {
            "tags": [],
            "needs_background": "light"
          }
        }
      ]
    },
    {
      "cell_type": "markdown",
      "metadata": {
        "id": "yZ40YCGa75ap"
      },
      "source": [
        "2.SCATTER PLOT"
      ]
    },
    {
      "cell_type": "code",
      "metadata": {
        "colab": {
          "base_uri": "https://localhost:8080/",
          "height": 295
        },
        "id": "XYT8plKc8V-E",
        "outputId": "223a4d2a-23d4-4f03-a5d6-cc1666c3bb6e"
      },
      "source": [
        "x = [1,1.5,2,2.5,3,3.5,3.6]\n",
        "y = [7.5,8,8.5,9,9.5,10,10.5]\n",
        "plt.scatter(x,y, label='high income low saving',color='r')\n",
        "\n",
        "plt.xlabel('saving*100')\n",
        "plt.ylabel('income*1000')\n",
        "\n",
        "plt.title('Scatter Plot')\n",
        "\n",
        "plt.legend()\n",
        "plt.grid(False)\n",
        "plt.show()"
      ],
      "execution_count": null,
      "outputs": [
        {
          "output_type": "display_data",
          "data": {
            "image/png": "[encoded data removed]",
            "text/plain": [
              "<Figure size 432x288 with 1 Axes>"
            ]
          },
          "metadata": {
            "tags": [],
            "needs_background": "light"
          }
        }
      ]
    },
    {
      "cell_type": "markdown",
      "metadata": {
        "id": "MPFccyZM8pcu"
      },
      "source": [
        "3.BARGRAPH"
      ]
    },
    {
      "cell_type": "code",
      "metadata": {
        "colab": {
          "base_uri": "https://localhost:8080/",
          "height": 295
        },
        "id": "LgqU3HsU8wt9",
        "outputId": "5a7059bd-bed0-49a1-f463-af46eeaba36b"
      },
      "source": [
        "x1 = [1,3,5,7,9]\n",
        "y1 = [5,2,7,8,2]\n",
        "x2 = [2,4,6,8,10]\n",
        "y2 = [8,6,2,5,6]\n",
        "plt.bar(x1, y1, label=\"Example 1\",color='r')\n",
        "plt.bar(x2, y2, label=\"Example 2\", color=\"g\")\n",
        "plt.legend()\n",
        "plt.xlabel(\"X axis\")\n",
        "plt.ylabel(\"Y axis\")\n",
        "plt.title(\"Bar graph\")\n",
        "plt.show()"
      ],
      "execution_count": null,
      "outputs": [
        {
          "output_type": "display_data",
          "data": {
            "image/png": "[encoded data removed]",
            "text/plain": [
              "<Figure size 432x288 with 1 Axes>"
            ]
          },
          "metadata": {
            "tags": [],
            "needs_background": "light"
          }
        }
      ]
    },
    {
      "cell_type": "markdown",
      "metadata": {
        "id": "DxqCQs9482kK"
      },
      "source": [
        "4.PIECHART"
      ]
    },
    {
      "cell_type": "code",
      "metadata": {
        "colab": {
          "base_uri": "https://localhost:8080/",
          "height": 266
        },
        "id": "iHBqDVS685CZ",
        "outputId": "55a1451c-6816-4fc3-dd41-e85547a7f5ca"
      },
      "source": [
        "slices = [31,2,12,13]\n",
        "activities = ['python','datascience','c++','machinelearning']\n",
        "cols = ['c','m','r','b']\n",
        "\n",
        "plt.pie(\n",
        "    slices,\n",
        "    labels=activities,\n",
        "    colors=cols,\n",
        "    startangle=180,\n",
        "    shadow=True,\n",
        "    explode=(0.3, 0.1, 0, 0),\n",
        "    autopct=\"%2.1f%%\"\n",
        ")\n",
        "plt.show()"
      ],
      "execution_count": null,
      "outputs": [
        {
          "output_type": "display_data",
          "data": {
            "image/png": "[encoded data removed]",
            "text/plain": [
              "<Figure size 432x288 with 1 Axes>"
            ]
          },
          "metadata": {
            "tags": []
          }
        }
      ]
    },
    {
      "cell_type": "markdown",
      "metadata": {
        "id": "gxU-gctuKLy3"
      },
      "source": [
        "5.STACK PLOT"
      ]
    },
    {
      "cell_type": "code",
      "metadata": {
        "colab": {
          "base_uri": "https://localhost:8080/",
          "height": 295
        },
        "id": "TbFmx4b_KOhd",
        "outputId": "26d2683b-a395-42f7-e4fd-f8ee03cd6140"
      },
      "source": [
        "days = [1,2,3,4,5]\n",
        "  \n",
        "sleeping =[7,8,6,11,7]\n",
        "eating = [2,3,4,3,2]\n",
        "working =[7,8,7,2,2]\n",
        "playing = [8,5,7,8,13]\n",
        "\n",
        "plt.plot([],[],color='b', label='Sleeping', linewidth=5)\n",
        "plt.plot([],[],color='c', label='Eating', linewidth=5)\n",
        "plt.plot([],[],color='r', label='Working', linewidth=5)\n",
        "plt.plot([],[],color='g', label='Playing', linewidth=5)\n",
        "\n",
        "plt.stackplot(days, sleeping,eating,working,playing, colors=['b','c','r','g'])\n",
        "\n",
        "plt.xlabel('Day')\n",
        "plt.ylabel('Number of hours spent')\n",
        "plt.title('Stack Plot')\n",
        "plt.legend()\n",
        "plt.show()"
      ],
      "execution_count": null,
      "outputs": [
        {
          "output_type": "display_data",
          "data": {
            "image/png": "[encoded data removed]",
            "text/plain": [
              "<Figure size 432x288 with 1 Axes>"
            ]
          },
          "metadata": {
            "tags": [],
            "needs_background": "light"
          }
        }
      ]
    },
    {
      "cell_type": "markdown",
      "metadata": {
        "id": "JpT_qlncLyVT"
      },
      "source": [
        "# **Exercise:9**"
      ]
    },
    {
      "cell_type": "markdown",
      "metadata": {
        "id": "S4F3K6p4L5tR"
      },
      "source": [
        "**a)Graph using matplotlib**"
      ]
    },
    {
      "cell_type": "code",
      "metadata": {
        "colab": {
          "base_uri": "https://localhost:8080/",
          "height": 265
        },
        "id": "nrKBLUKHMAw7",
        "outputId": "e83e972d-8f7b-4406-8102-da9f2e06ead1"
      },
      "source": [
        "import numpy as np\n",
        "t = np.arange(0., 5., 0.2)\n",
        "\n",
        "#Two or more lines\n",
        "plt.plot(t, t, 'r--', t, t**2, 'bs', t, t**3, 'g^')\n",
        "plt.show()"
      ],
      "execution_count": null,
      "outputs": [
        {
          "output_type": "display_data",
          "data": {
            "image/png": "[encoded data removed]",
            "text/plain": [
              "<Figure size 432x288 with 1 Axes>"
            ]
          },
          "metadata": {
            "tags": [],
            "needs_background": "light"
          }
        }
      ]
    },
    {
      "cell_type": "code",
      "metadata": {
        "colab": {
          "base_uri": "https://localhost:8080/",
          "height": 303
        },
        "id": "X5xW7TPWMi08",
        "outputId": "e38637e1-859e-4bc3-f62f-be93465b6eb6"
      },
      "source": [
        "#With legend \n",
        "plt.plot([1, 2, 3, 4], [1, 4, 9, 16], 'r^', label=\" Sample Graph\")\n",
        "plt.legend(loc=\"upper left\")\n",
        "plt.xlabel(' Height')\n",
        "plt.ylabel('Weight')\n",
        "plt.axis([0, 5, 0, 20])"
      ],
      "execution_count": null,
      "outputs": [
        {
          "output_type": "execute_result",
          "data": {
            "text/plain": [
              "(0.0, 5.0, 0.0, 20.0)"
            ]
          },
          "metadata": {
            "tags": []
          },
          "execution_count": 28
        },
        {
          "output_type": "display_data",
          "data": {
            "image/png": "[encoded data removed]",
            "text/plain": [
              "<Figure size 432x288 with 1 Axes>"
            ]
          },
          "metadata": {
            "tags": []
          }
        }
      ]
    },
    {
      "cell_type": "code",
      "metadata": {
        "colab": {
          "base_uri": "https://localhost:8080/",
          "height": 299
        },
        "id": "iPIeZZJ8Mp8L",
        "outputId": "2afc4510-008c-4c27-91f4-e30483d42692"
      },
      "source": [
        "#Adding style to graph\n",
        "from matplotlib import style\n",
        "style.use(\"ggplot\")#this is used for grid look\n",
        "x = [5, 8, 10]\n",
        "y = [12, 16, 6]\n",
        "x2 = [6, 9, 11]\n",
        "y2 = [6, 15, 7]\n",
        "plt.plot(x, y, 'g', label=\"line one\", linewidth=5)\n",
        "plt.plot(x2, y2, 'c', label=\"line two\", linewidth=5)\n",
        "plt.xlabel(\"X axis\")\n",
        "plt.ylabel(\"Y axis\")\n",
        "plt.title(\"Sample graph\")\n",
        "plt.legend() # Bydeafult upper right\n",
        "#plt.grid(True, color=\"b\")#this is used for color of lines in grid\n",
        "plt.grid(True)\n",
        "plt.show()"
      ],
      "execution_count": null,
      "outputs": [
        {
          "output_type": "display_data",
          "data": {
            "image/png": "[encoded data removed]",
            "text/plain": [
              "<Figure size 432x288 with 1 Axes>"
            ]
          },
          "metadata": {
            "tags": []
          }
        }
      ]
    },
    {
      "cell_type": "code",
      "metadata": {
        "colab": {
          "base_uri": "https://localhost:8080/",
          "height": 299
        },
        "id": "1TSST3_ANeVN",
        "outputId": "b2bf1960-7c44-4a2f-ea0f-4848156a143a"
      },
      "source": [
        "# bar graph for categorical values\n",
        "x1 = [1,3,5,7,9]\n",
        "y1 = [5,2,7,8,2]\n",
        "x2 = [2,4,6,8,10]\n",
        "y2 = [8,6,2,5,6]\n",
        "plt.bar(x1, y1, label=\"Example 1\",color='r')\n",
        "plt.bar(x2, y2, label=\"Example 2\", color=\"g\")\n",
        "plt.legend()\n",
        "plt.xlabel(\"X axis\")\n",
        "plt.ylabel(\"Y axis\")\n",
        "plt.title(\"Bar graph\")\n",
        "plt.show()"
      ],
      "execution_count": null,
      "outputs": [
        {
          "output_type": "display_data",
          "data": {
            "image/png": "[encoded data removed]",
            "text/plain": [
              "<Figure size 432x288 with 1 Axes>"
            ]
          },
          "metadata": {
            "tags": []
          }
        }
      ]
    },
    {
      "cell_type": "code",
      "metadata": {
        "colab": {
          "base_uri": "https://localhost:8080/",
          "height": 299
        },
        "id": "UpGTBs1uN28d",
        "outputId": "d1252d74-53b0-4f57-a801-36722f0713ab"
      },
      "source": [
        "# histogram for numeric values\n",
        "population_age = [20,20,20,30,30,30,40,40,40,50,50,50,60,60,60]\n",
        "bins = [0,10,20,30,40,50,60,70,80,90,100]\n",
        "plt.hist(population_age, bins, color=\"r\", rwidth=0.1) # histogram is representing frequnecy of each value\n",
        "plt.xlabel('age groups')\n",
        "plt.ylabel('Number of people')\n",
        "plt.title('Histogram')\n",
        "plt.show()\n"
      ],
      "execution_count": null,
      "outputs": [
        {
          "output_type": "display_data",
          "data": {
            "image/png": "[encoded data removed]",
            "text/plain": [
              "<Figure size 432x288 with 1 Axes>"
            ]
          },
          "metadata": {
            "tags": []
          }
        }
      ]
    },
    {
      "cell_type": "code",
      "metadata": {
        "colab": {
          "base_uri": "https://localhost:8080/",
          "height": 299
        },
        "id": "VIwdrNCWMQm8",
        "outputId": "6378aab3-9f49-4877-93e0-318e0dc5bb51"
      },
      "source": [
        "#scatter plot\n",
        "x = [1,1.5,2,2.5,3,3.5,3.6]\n",
        "y = [7.5,8,8.5,9,9.5,10,10.5]\n",
        "plt.scatter(x,y, label='high income low saving',color='r')\n",
        "\n",
        "plt.xlabel('saving*100')\n",
        "plt.ylabel('income*1000')\n",
        "\n",
        "plt.title('Scatter Plot')\n",
        "\n",
        "plt.legend()\n",
        "plt.grid(False)\n",
        "plt.show()"
      ],
      "execution_count": null,
      "outputs": [
        {
          "output_type": "display_data",
          "data": {
            "image/png": "[encoded data removed]",
            "text/plain": [
              "<Figure size 432x288 with 1 Axes>"
            ]
          },
          "metadata": {
            "tags": []
          }
        }
      ]
    },
    {
      "cell_type": "code",
      "metadata": {
        "colab": {
          "base_uri": "https://localhost:8080/",
          "height": 401
        },
        "id": "SQ3fHYEwON-4",
        "outputId": "568fa3cc-ccbf-4e2c-9b4c-858f4858e202"
      },
      "source": [
        "#sine ans cosine graphs\n",
        "x = np.arange(0, 3 * np.pi, 0.1)\n",
        "print(x)\n",
        "y_sin = np.sin(x)\n",
        "y_cos = np.cos(x)\n",
        "# Plot the points using matplotlib\n",
        "plt.plot(x, y_sin)\n",
        "plt.plot(x, y_cos)\n",
        "plt.xlabel('x axis label')\n",
        "plt.ylabel('y axis label')\n",
        "plt.title('Sine and Cosine')\n",
        "plt.legend(['Sine', 'Cosine'])\n",
        "plt.show()"
      ],
      "execution_count": null,
      "outputs": [
        {
          "output_type": "stream",
          "text": [
            "[0.  0.1 0.2 0.3 0.4 0.5 0.6 0.7 0.8 0.9 1.  1.1 1.2 1.3 1.4 1.5 1.6 1.7\n",
            " 1.8 1.9 2.  2.1 2.2 2.3 2.4 2.5 2.6 2.7 2.8 2.9 3.  3.1 3.2 3.3 3.4 3.5\n",
            " 3.6 3.7 3.8 3.9 4.  4.1 4.2 4.3 4.4 4.5 4.6 4.7 4.8 4.9 5.  5.1 5.2 5.3\n",
            " 5.4 5.5 5.6 5.7 5.8 5.9 6.  6.1 6.2 6.3 6.4 6.5 6.6 6.7 6.8 6.9 7.  7.1\n",
            " 7.2 7.3 7.4 7.5 7.6 7.7 7.8 7.9 8.  8.1 8.2 8.3 8.4 8.5 8.6 8.7 8.8 8.9\n",
            " 9.  9.1 9.2 9.3 9.4]\n"
          ],
          "name": "stdout"
        },
        {
          "output_type": "display_data",
          "data": {
            "image/png": "[encoded data removed]",
            "text/plain": [
              "<Figure size 432x288 with 1 Axes>"
            ]
          },
          "metadata": {
            "tags": []
          }
        }
      ]
    },
    {
      "cell_type": "markdown",
      "metadata": {
        "id": "iFfflL9DO42B"
      },
      "source": [
        "# **Exercise:10**"
      ]
    },
    {
      "cell_type": "markdown",
      "metadata": {
        "id": "neIm7wiIO-Ko"
      },
      "source": [
        "**Vector using matplotlib**"
      ]
    },
    {
      "cell_type": "code",
      "metadata": {
        "id": "I7MEraA6PDsq",
        "colab": {
          "base_uri": "https://localhost:8080/",
          "height": 279
        },
        "outputId": "2b5814cf-8ba7-4fe2-fe94-a9997bfb181f"
      },
      "source": [
        "#Plotting Of Vector In 2D\n",
        "import matplotlib.pyplot as plt\n",
        "ax = plt.axes()\n",
        "#(x,y,dx,dy):the starting point of vectors is (x,y) and the end point of vector is(x+dy,x+dx) where dx,dy are length of the arrow along x and y direction\n",
        "#fc=face color,ec=edge color\n",
        "ax.arrow(2.0, 4.0, 6.0, 4.0, head_width=0.5, head_length=0.7, fc='yellow', ec='red')\n",
        "plt.grid()\n",
        "plt.xlim(0,10)\n",
        "plt.ylim(0,10)\n",
        "plt.title('Vector Using Matplotlib',fontsize=10)\n",
        "plt.show()"
      ],
      "execution_count": null,
      "outputs": [
        {
          "output_type": "display_data",
          "data": {
            "image/png": "[encoded data removed]",
            "text/plain": [
              "<Figure size 432x288 with 1 Axes>"
            ]
          },
          "metadata": {
            "tags": [],
            "needs_background": "light"
          }
        }
      ]
    },
    {
      "cell_type": "code",
      "metadata": {
        "colab": {
          "base_uri": "https://localhost:8080/",
          "height": 279
        },
        "id": "X207Jj1EvvqV",
        "outputId": "f2a30e02-8788-4a3a-bb0f-bc373835ab44"
      },
      "source": [
        "#Plotting Of 2 Vectors In 2D\n",
        "ax = plt.axes()\n",
        "ax.arrow(2.0, 4.0, 6.0, 4.0, head_width=0.5, head_length=0.7, fc='yellow', ec='red')\n",
        "ax.arrow(2.0, 4.0, 4.0, 0.0, head_width=0.5, head_length=0.7, fc='green', ec='blue')\n",
        "plt.grid()\n",
        "plt.xlim(0,10)\n",
        "plt.ylim(0,10)\n",
        "plt.title('Vector Using Matplotlib',fontsize=10)\n",
        "plt.show()"
      ],
      "execution_count": null,
      "outputs": [
        {
          "output_type": "display_data",
          "data": {
            "image/png": "[encoded data removed]",
            "text/plain": [
              "<Figure size 432x288 with 1 Axes>"
            ]
          },
          "metadata": {
            "tags": [],
            "needs_background": "light"
          }
        }
      ]
    },
    {
      "cell_type": "code",
      "metadata": {
        "colab": {
          "base_uri": "https://localhost:8080/",
          "height": 279
        },
        "id": "UN80_TuawGKb",
        "outputId": "6d7b9c29-3ed9-4ebb-e7f6-25242d7fa187"
      },
      "source": [
        "#Plotting Of 3 Vectors In 2D\n",
        "ax = plt.axes()\n",
        "ax.arrow(2.0, 4.0, 6.0, 4.0, head_width=0.5, head_length=0.7, fc='yellow', ec='red')\n",
        "ax.arrow(2.0, 4.0, 4.0, 0.0, head_width=0.5, head_length=0.7, fc='green', ec='blue')\n",
        "ax.arrow(2.0, 4.0, 2.0, 4.0, head_width=0.5, head_length=0.7, fc='blue', ec='black')\n",
        "plt.grid()\n",
        "plt.xlim(0,10)\n",
        "plt.ylim(0,10)\n",
        "plt.title('Vector Using Matplotlib',fontsize=10)\n",
        "plt.show()"
      ],
      "execution_count": null,
      "outputs": [
        {
          "output_type": "display_data",
          "data": {
            "image/png": "[encoded data removed]",
            "text/plain": [
              "<Figure size 432x288 with 1 Axes>"
            ]
          },
          "metadata": {
            "tags": [],
            "needs_background": "light"
          }
        }
      ]
    },
    {
      "cell_type": "code",
      "metadata": {
        "colab": {
          "base_uri": "https://localhost:8080/",
          "height": 265
        },
        "id": "J6hXB5wQwWuu",
        "outputId": "0427bcfa-4d11-41bd-fe5a-f73a209d970b"
      },
      "source": [
        "#Plotting of single vector in 3D\n",
        "fig=plt.figure()\n",
        "ax=plt.axes(projection='3d')\n",
        "ax.set_xlim([-1,10])\n",
        "ax.set_ylim([-10,10])\n",
        "ax.set_zlim([1,10])\n",
        "start=[0,0,0] #starting of the vector\n",
        "end=[2,3,1]   # Ending of the vector\n",
        "ax.quiver(start[0],start[1],start[2],end[0],end[1],end[2])"
      ],
      "execution_count": null,
      "outputs": [
        {
          "output_type": "execute_result",
          "data": {
            "text/plain": [
              "<mpl_toolkits.mplot3d.art3d.Line3DCollection at 0x7f00cd845dd0>"
            ]
          },
          "metadata": {
            "tags": []
          },
          "execution_count": 4
        },
        {
          "output_type": "display_data",
          "data": {
            "image/png": "[encoded data removed]",
            "text/plain": [
              "<Figure size 432x288 with 1 Axes>"
            ]
          },
          "metadata": {
            "tags": [],
            "needs_background": "light"
          }
        }
      ]
    },
    {
      "cell_type": "markdown",
      "metadata": {
        "id": "EBy3ce66QNCd"
      },
      "source": [
        "# **Additionals**"
      ]
    },
    {
      "cell_type": "markdown",
      "metadata": {
        "id": "WqDU0Mr6QfcS"
      },
      "source": [
        "**SYMPY:**"
      ]
    },
    {
      "cell_type": "code",
      "metadata": {
        "id": "8sBamXSm6249",
        "colab": {
          "base_uri": "https://localhost:8080/"
        },
        "outputId": "cda0362c-ca71-4192-9a1b-04cf08054e19"
      },
      "source": [
        "pip install sympy"
      ],
      "execution_count": null,
      "outputs": [
        {
          "output_type": "stream",
          "text": [
            "Requirement already satisfied: sympy in /usr/local/lib/python3.7/dist-packages (1.7.1)\n",
            "Requirement already satisfied: mpmath>=0.19 in /usr/local/lib/python3.7/dist-packages (from sympy) (1.2.1)\n"
          ],
          "name": "stdout"
        }
      ]
    },
    {
      "cell_type": "code",
      "metadata": {
        "colab": {
          "base_uri": "https://localhost:8080/",
          "height": 35
        },
        "id": "qP0F20vee-cu",
        "outputId": "543df36a-a791-45af-a2a2-faef7af6cae3"
      },
      "source": [
        "import sympy\n",
        "sympy.__version__"
      ],
      "execution_count": null,
      "outputs": [
        {
          "output_type": "execute_result",
          "data": {
            "application/vnd.google.colaboratory.intrinsic+json": {
              "type": "string"
            },
            "text/plain": [
              "'1.7.1'"
            ]
          },
          "metadata": {
            "tags": []
          },
          "execution_count": 7
        }
      ]
    },
    {
      "cell_type": "code",
      "metadata": {
        "colab": {
          "base_uri": "https://localhost:8080/"
        },
        "id": "FUz2tRzIjQ6g",
        "outputId": "01290827-ad3c-40d3-982d-ee823e999007"
      },
      "source": [
        "#math Vs sympy\n",
        "import math\n",
        "import sympy\n",
        "print(math.sqrt(25),math.sqrt(7))#it gives value\n",
        "print(sympy.sqrt(25),sympy.sqrt(7))#It gives symbols"
      ],
      "execution_count": null,
      "outputs": [
        {
          "output_type": "stream",
          "text": [
            "5.0 2.6457513110645907\n",
            "5 sqrt(7)\n"
          ],
          "name": "stdout"
        }
      ]
    },
    {
      "cell_type": "code",
      "metadata": {
        "colab": {
          "base_uri": "https://localhost:8080/",
          "height": 54
        },
        "id": "coJY1jVn2OJm",
        "outputId": "85e1869d-4249-4271-b850-f5f753c9b4f9"
      },
      "source": [
        "from sympy import *\n",
        "x=Symbol('a')\n",
        "exp1=integrate(x,x)\n",
        "exp1\n"
      ],
      "execution_count": null,
      "outputs": [
        {
          "output_type": "execute_result",
          "data": {
            "text/latex": "$\\displaystyle \\frac{a^{2}}{2}$",
            "text/plain": [
              "a**2/2"
            ]
          },
          "metadata": {
            "tags": []
          },
          "execution_count": 82
        }
      ]
    },
    {
      "cell_type": "code",
      "metadata": {
        "colab": {
          "base_uri": "https://localhost:8080/",
          "height": 55
        },
        "id": "lsM7a39K22pT",
        "outputId": "9e45b2f4-53e4-4408-fc19-b52426ac2d4c"
      },
      "source": [
        "exp2=integrate(x**x,x)+integrate(x**x,x)\n",
        "exp2"
      ],
      "execution_count": null,
      "outputs": [
        {
          "output_type": "execute_result",
          "data": {
            "text/latex": "$\\displaystyle 2 \\int a^{a}\\, da$",
            "text/plain": [
              "2*Integral(a**a, a)"
            ]
          },
          "metadata": {
            "tags": []
          },
          "execution_count": 10
        }
      ]
    },
    {
      "cell_type": "code",
      "metadata": {
        "colab": {
          "base_uri": "https://localhost:8080/",
          "height": 51
        },
        "id": "auvN5me047z-",
        "outputId": "152c04ad-8977-4fa8-812b-79e488c35982"
      },
      "source": [
        "#rational\n",
        "Rational(\"3.14\").limit_denominator(10)"
      ],
      "execution_count": null,
      "outputs": [
        {
          "output_type": "execute_result",
          "data": {
            "text/latex": "$\\displaystyle \\frac{22}{7}$",
            "text/plain": [
              "22/7"
            ]
          },
          "metadata": {
            "tags": []
          },
          "execution_count": 15
        }
      ]
    },
    {
      "cell_type": "code",
      "metadata": {
        "colab": {
          "base_uri": "https://localhost:8080/"
        },
        "id": "j4ax3xz95U42",
        "outputId": "a2ebf3f1-ff1c-4987-9637-e307ab95fdff"
      },
      "source": [
        "a=Rational(2342,6236736)\n",
        "print(a)\n",
        "print(a.p)\n",
        "print(a.q)"
      ],
      "execution_count": null,
      "outputs": [
        {
          "output_type": "stream",
          "text": [
            "1171/3118368\n",
            "1171\n",
            "3118368\n"
          ],
          "name": "stdout"
        }
      ]
    },
    {
      "cell_type": "code",
      "metadata": {
        "colab": {
          "base_uri": "https://localhost:8080/",
          "height": 37
        },
        "id": "3t0gypD95wYj",
        "outputId": "d5d7c454-8a5d-4fbf-c21d-afb1e592731d"
      },
      "source": [
        "#integer\n",
        "Integer(16/5)"
      ],
      "execution_count": null,
      "outputs": [
        {
          "output_type": "execute_result",
          "data": {
            "text/latex": "$\\displaystyle 3$",
            "text/plain": [
              "3"
            ]
          },
          "metadata": {
            "tags": []
          },
          "execution_count": 19
        }
      ]
    },
    {
      "cell_type": "code",
      "metadata": {
        "colab": {
          "base_uri": "https://localhost:8080/"
        },
        "id": "6exMw88V6CY8",
        "outputId": "8e2b6a1a-59b9-4189-98e2-4b79e96dcac4"
      },
      "source": [
        "#singleton registery\n",
        "\n",
        "from sympy import S\n",
        "print(S.Half)"
      ],
      "execution_count": null,
      "outputs": [
        {
          "output_type": "stream",
          "text": [
            "1/2\n"
          ],
          "name": "stdout"
        }
      ]
    },
    {
      "cell_type": "code",
      "metadata": {
        "colab": {
          "base_uri": "https://localhost:8080/",
          "height": 37
        },
        "id": "HhBjETzm6GhN",
        "outputId": "5416efc1-1773-46e8-8ada-3c5d2a88e268"
      },
      "source": [
        "#infinity\n",
        "\n",
        "from sympy import oo\n",
        "oo"
      ],
      "execution_count": null,
      "outputs": [
        {
          "output_type": "execute_result",
          "data": {
            "text/latex": "$\\displaystyle \\infty$",
            "text/plain": [
              "oo"
            ]
          },
          "metadata": {
            "tags": []
          },
          "execution_count": 83
        }
      ]
    },
    {
      "cell_type": "code",
      "metadata": {
        "colab": {
          "base_uri": "https://localhost:8080/",
          "height": 38
        },
        "id": "taZFAUw16Qvi",
        "outputId": "ead6e20c-9cca-4e5e-9a34-3314e019a4d0"
      },
      "source": [
        "#symbols\n",
        "x=Symbol('x')\n",
        "expr=sin(x)*sin(x)+cos(x)*cos(x)\n",
        "expr"
      ],
      "execution_count": null,
      "outputs": [
        {
          "output_type": "execute_result",
          "data": {
            "text/latex": "$\\displaystyle \\sin^{2}{\\left(x \\right)} + \\cos^{2}{\\left(x \\right)}$",
            "text/plain": [
              "sin(x)**2 + cos(x)**2"
            ]
          },
          "metadata": {
            "tags": []
          },
          "execution_count": 25
        }
      ]
    },
    {
      "cell_type": "code",
      "metadata": {
        "colab": {
          "base_uri": "https://localhost:8080/",
          "height": 38
        },
        "id": "J5zkelGk45ck",
        "outputId": "41233ff9-18a2-45c7-d5a7-3c7c990599bf"
      },
      "source": [
        "import sympy\n",
        "from sympy import Symbol\n",
        "x=Symbol('x')\n",
        "y=Symbol('y')\n",
        "expr=x**2+y**2\n",
        "expr"
      ],
      "execution_count": null,
      "outputs": [
        {
          "output_type": "execute_result",
          "data": {
            "text/latex": "$\\displaystyle x^{2} + y^{2}$",
            "text/plain": [
              "x**2 + y**2"
            ]
          },
          "metadata": {
            "tags": []
          },
          "execution_count": 2
        }
      ]
    },
    {
      "cell_type": "code",
      "metadata": {
        "colab": {
          "base_uri": "https://localhost:8080/",
          "height": 38
        },
        "id": "EA_Tfw4Q61MM",
        "outputId": "fa14536a-4187-42c6-d7ab-1e815c2117d6"
      },
      "source": [
        "expr=a*a + 2*a + 5\n",
        "expr"
      ],
      "execution_count": null,
      "outputs": [
        {
          "output_type": "execute_result",
          "data": {
            "text/latex": "$\\displaystyle a^{2} + 2 a + 5$",
            "text/plain": [
              "a**2 + 2*a + 5"
            ]
          },
          "metadata": {
            "tags": []
          },
          "execution_count": 31
        }
      ]
    },
    {
      "cell_type": "code",
      "metadata": {
        "colab": {
          "base_uri": "https://localhost:8080/",
          "height": 37
        },
        "id": "91m24JbL64Nt",
        "outputId": "1a6cd1f7-c4e5-4471-eab9-a95517d660d5"
      },
      "source": [
        "expr.subs(a,2)"
      ],
      "execution_count": null,
      "outputs": [
        {
          "output_type": "execute_result",
          "data": {
            "text/latex": "$\\displaystyle 13$",
            "text/plain": [
              "13"
            ]
          },
          "metadata": {
            "tags": []
          },
          "execution_count": 32
        }
      ]
    },
    {
      "cell_type": "markdown",
      "metadata": {
        "id": "Gd_2WmHKShAq"
      },
      "source": [
        "Differenciation using sympy"
      ]
    },
    {
      "cell_type": "code",
      "metadata": {
        "id": "Vl7V0Mw8QSTi"
      },
      "source": [
        "from sympy import *\n",
        "x, y, z = symbols('x y z')\n",
        "init_printing(use_unicode=True)"
      ],
      "execution_count": null,
      "outputs": []
    },
    {
      "cell_type": "code",
      "metadata": {
        "colab": {
          "base_uri": "https://localhost:8080/",
          "height": 38
        },
        "id": "NmISwfKGQIel",
        "outputId": "5c1d7f10-45f8-4a91-c814-10c3800d870e"
      },
      "source": [
        "diff(cos(x), x)"
      ],
      "execution_count": null,
      "outputs": [
        {
          "output_type": "execute_result",
          "data": {
            "image/png": "[encoded data removed]",
            "text/latex": "$\\displaystyle - \\sin{\\left(x \\right)}$",
            "text/plain": [
              "-sin(x)"
            ]
          },
          "metadata": {
            "tags": []
          },
          "execution_count": 26
        }
      ]
    },
    {
      "cell_type": "code",
      "metadata": {
        "colab": {
          "base_uri": "https://localhost:8080/",
          "height": 41
        },
        "id": "1iQJEuaiOnWy",
        "outputId": "3bbff5d4-1e3d-48b5-bf50-262fb0ba0657"
      },
      "source": [
        "diff(exp(x**2), x)"
      ],
      "execution_count": null,
      "outputs": [
        {
          "output_type": "execute_result",
          "data": {
            "image/png": "[encoded data removed]",
            "text/latex": "$\\displaystyle 2 x e^{x^{2}}$",
            "text/plain": [
              "     ⎛ 2⎞\n",
              "     ⎝x ⎠\n",
              "2⋅x⋅ℯ    "
            ]
          },
          "metadata": {
            "tags": []
          },
          "execution_count": 27
        }
      ]
    },
    {
      "cell_type": "code",
      "metadata": {
        "colab": {
          "base_uri": "https://localhost:8080/",
          "height": 38
        },
        "id": "hOjUNLxzQi8j",
        "outputId": "d3491bd7-c41a-408b-e619-4c2be646ffcf"
      },
      "source": [
        "diff(x**4, x, x, x)#here differenciation is done 3 times"
      ],
      "execution_count": null,
      "outputs": [
        {
          "output_type": "execute_result",
          "data": {
            "image/png": "[encoded data removed]",
            "text/latex": "$\\displaystyle 24 x$",
            "text/plain": [
              "24⋅x"
            ]
          },
          "metadata": {
            "tags": []
          },
          "execution_count": 28
        }
      ]
    },
    {
      "cell_type": "code",
      "metadata": {
        "colab": {
          "base_uri": "https://localhost:8080/",
          "height": 37
        },
        "id": "ZzdPPt4VRO4V",
        "outputId": "045bf6c9-a7d3-468d-ea4c-65d7aab847e3"
      },
      "source": [
        "diff(e,x,y)#diff of x wrt y is 0 as it will be considered as constant"
      ],
      "execution_count": null,
      "outputs": [
        {
          "output_type": "execute_result",
          "data": {
            "image/png": "[encoded data removed]",
            "text/latex": "$\\displaystyle 0$",
            "text/plain": [
              "0"
            ]
          },
          "metadata": {
            "tags": []
          },
          "execution_count": 32
        }
      ]
    },
    {
      "cell_type": "markdown",
      "metadata": {
        "id": "Fkd0ILhwS0tS"
      },
      "source": [
        "Integration using sympy"
      ]
    },
    {
      "cell_type": "code",
      "metadata": {
        "colab": {
          "base_uri": "https://localhost:8080/",
          "height": 38
        },
        "id": "kZfotGT_RtNJ",
        "outputId": "9c198407-34d3-40d3-c8b8-f4978a41a64f"
      },
      "source": [
        "from sympy import *\n",
        "from sympy.abc import x, y\n",
        "integrate(cos(x),x)"
      ],
      "execution_count": null,
      "outputs": [
        {
          "output_type": "execute_result",
          "data": {
            "image/png": "[encoded data removed]",
            "text/latex": "$\\displaystyle \\sin{\\left(x \\right)}$",
            "text/plain": [
              "sin(x)"
            ]
          },
          "metadata": {
            "tags": []
          },
          "execution_count": 35
        }
      ]
    },
    {
      "cell_type": "code",
      "metadata": {
        "colab": {
          "base_uri": "https://localhost:8080/",
          "height": 37
        },
        "id": "iDTqctYSR61E",
        "outputId": "78215f19-3d89-4dc1-b1e5-43ba7bc5ae6a"
      },
      "source": [
        "integrate(exp(-x), (x, 0, oo))"
      ],
      "execution_count": null,
      "outputs": [
        {
          "output_type": "execute_result",
          "data": {
            "image/png": "[encoded data removed]",
            "text/latex": "$\\displaystyle 1$",
            "text/plain": [
              "1"
            ]
          },
          "metadata": {
            "tags": []
          },
          "execution_count": 36
        }
      ]
    },
    {
      "cell_type": "code",
      "metadata": {
        "colab": {
          "base_uri": "https://localhost:8080/",
          "height": 38
        },
        "id": "7KSV9zCeSKl_",
        "outputId": "cff17888-758c-4bfe-cc29-36eb74760fa4"
      },
      "source": [
        "integrate(exp(-x**2 - y**2), (x, -oo, oo), (y, -oo, oo))"
      ],
      "execution_count": null,
      "outputs": [
        {
          "output_type": "execute_result",
          "data": {
            "image/png": "[encoded data removed]",
            "text/latex": "$\\displaystyle \\pi$",
            "text/plain": [
              "π"
            ]
          },
          "metadata": {
            "tags": []
          },
          "execution_count": 37
        }
      ]
    },
    {
      "cell_type": "code",
      "metadata": {
        "colab": {
          "base_uri": "https://localhost:8080/",
          "height": 54
        },
        "id": "K32-T-bvS_gi",
        "outputId": "3d247f46-c349-468c-aa94-7673cc333eb8"
      },
      "source": [
        "from sympy import *\n",
        "x = Symbol('x')\n",
        "integrate(x**2 + x + 1, x)"
      ],
      "execution_count": null,
      "outputs": [
        {
          "output_type": "execute_result",
          "data": {
            "image/png": "[encoded data removed]",
            "text/latex": "$\\displaystyle \\frac{x^{3}}{3} + \\frac{x^{2}}{2} + x$",
            "text/plain": [
              " 3    2    \n",
              "x    x     \n",
              "── + ── + x\n",
              "3    2     "
            ]
          },
          "metadata": {
            "tags": []
          },
          "execution_count": 43
        }
      ]
    },
    {
      "cell_type": "markdown",
      "metadata": {
        "id": "2qYX1fOUTLBr"
      },
      "source": [
        "Limit using sympy"
      ]
    },
    {
      "cell_type": "code",
      "metadata": {
        "colab": {
          "base_uri": "https://localhost:8080/",
          "height": 37
        },
        "id": "LV-3rxlUT5v1",
        "outputId": "80f6dc13-a555-4cf4-c74c-d510c64e665b"
      },
      "source": [
        "limit(sin(x)/x, x, 0)"
      ],
      "execution_count": null,
      "outputs": [
        {
          "output_type": "execute_result",
          "data": {
            "image/png": "[encoded data removed]",
            "text/latex": "$\\displaystyle 1$",
            "text/plain": [
              "1"
            ]
          },
          "metadata": {
            "tags": []
          },
          "execution_count": 47
        }
      ]
    }
  ]
}